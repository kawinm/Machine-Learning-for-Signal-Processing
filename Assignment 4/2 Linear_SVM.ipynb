{
 "cells": [
  {
   "cell_type": "markdown",
   "id": "ba8d1917-630c-4884-bab4-87fc7b77b816",
   "metadata": {},
   "source": [
    "# Linear SVM on Fischer Faces dataset\n",
    "\n",
    "Performed PCA on to reduce the dimension from 10201 to K and then performed SVM on it to classify the images.\n",
    "\n",
    "Libraries used:\n",
    "1) Numpy - for numerical computations such as eig(), matmul(), dot operator\n",
    "2) Pillow - to read the .gif file\n",
    "3) Matplotlib - to plot the graph"
   ]
  },
  {
   "cell_type": "code",
   "execution_count": 95,
   "id": "2cb0c932-2cb1-4cd0-96fd-90d30affce60",
   "metadata": {},
   "outputs": [],
   "source": [
    "import numpy as np\n",
    "from PIL import Image\n",
    "import matplotlib.pyplot as plt\n",
    "import os"
   ]
  },
  {
   "cell_type": "markdown",
   "id": "7377c5e7-617a-42e1-a129-7a2280b52802",
   "metadata": {},
   "source": [
    "### Function get_data() \n",
    "\n",
    "#### Input\n",
    "Folder name - either train or test\n",
    "\n",
    "#### Output\n",
    "The image data of dimension 101 x 101 is returned as numpy array X of shape (Number of images in folder, Dimension of image)  \n",
    "Labels - Happy (1) or Sad (2) - of the corresponding images"
   ]
  },
  {
   "cell_type": "code",
   "execution_count": 96,
   "id": "95c0e487-1e51-4fd0-b312-2bd63aa33a8f",
   "metadata": {},
   "outputs": [],
   "source": [
    "def get_data(folder):\n",
    "    labels = [[], []]    \n",
    "\n",
    "    for dirname, _, filenames in os.walk(\"Data/emotion_classification/\"+ folder):\n",
    "        i = 0\n",
    "        for filename in filenames:   \n",
    "            if \"happy\" in filename:\n",
    "                labels[0].append(i)\n",
    "            else:\n",
    "                labels[1].append(i)\n",
    "            i+=1\n",
    "\n",
    "            gif = Image.open(os.path.join(dirname, filename))\n",
    "\n",
    "            data = np.asarray(gif)\n",
    "\n",
    "            x = data.reshape(1,101*101)\n",
    "\n",
    "            if i == 1:\n",
    "                X = x\n",
    "            else:\n",
    "                X = np.vstack((X, x))\n",
    "\n",
    "    print(\"Input Data Shape\", X.shape)\n",
    "    print(\"Input Data\", X)\n",
    "    \n",
    "    return X, labels"
   ]
  },
  {
   "cell_type": "code",
   "execution_count": 97,
   "id": "4b43f2c5-25af-4195-8b88-2bdb09f98883",
   "metadata": {},
   "outputs": [
    {
     "name": "stdout",
     "output_type": "stream",
     "text": [
      "Input Data Shape (20, 10201)\n",
      "Input Data [[133 142 146 ...  95  95  95]\n",
      " [115 115 117 ... 220 227 213]\n",
      " [ 71  87 105 ...  65  66  71]\n",
      " ...\n",
      " [ 65  76  83 ...  57  53  54]\n",
      " [ 13  17  22 ... 255 255 255]\n",
      " [ 23  20  17 ... 121 215 255]]\n"
     ]
    }
   ],
   "source": [
    "X, labels = get_data('train')"
   ]
  },
  {
   "cell_type": "markdown",
   "id": "2cd5b206-927c-4ed7-a6e8-8d2628a5ea46",
   "metadata": {
    "tags": []
   },
   "source": [
    "### Function calculate_mean()\n",
    "\n",
    "#### Input \n",
    "X - any numpy array\n",
    "\n",
    "#### Output\n",
    "Mean of the input data calculated along the column"
   ]
  },
  {
   "cell_type": "code",
   "execution_count": 98,
   "id": "bc2ae471-75cd-421e-9430-06abf9f00128",
   "metadata": {},
   "outputs": [],
   "source": [
    "def calculate_mean(X):\n",
    "    mean = np.sum(X, axis=0)\n",
    "    mean = mean / len(X)\n",
    "\n",
    "    print(\"Mean of input\", mean.shape, mean)\n",
    "    \n",
    "    return mean"
   ]
  },
  {
   "cell_type": "code",
   "execution_count": 99,
   "id": "d4b216fb-8ef1-43db-af67-aca27590541f",
   "metadata": {},
   "outputs": [],
   "source": [
    "K = 19\n",
    "\n",
    "from sklearn.decomposition import PCA\n",
    "\n",
    "pca = PCA(n_components = K)\n",
    "\n",
    "P = pca.fit_transform(X)"
   ]
  },
  {
   "cell_type": "markdown",
   "id": "1f71eb6e-d774-4422-8b2f-8c8674c2a5ee",
   "metadata": {},
   "source": [
    "### Function get_labels()\n",
    "\n",
    "Returns the label vector with each entry corresponding to the label of each image in data point"
   ]
  },
  {
   "cell_type": "code",
   "execution_count": 100,
   "id": "dff02a89-2437-47eb-8b75-0a6db672b5f0",
   "metadata": {},
   "outputs": [],
   "source": [
    "def get_labels(labels):\n",
    "    y = []\n",
    "    \n",
    "    N = sum([len(i) for i in labels])\n",
    "    for i in range(N):\n",
    "        if i in labels[0]:\n",
    "            y.append(1)\n",
    "        else:\n",
    "            y.append(2)\n",
    "\n",
    "    print(\"Labels\", y)\n",
    "    return y"
   ]
  },
  {
   "cell_type": "code",
   "execution_count": 101,
   "id": "026432c6-200c-4db0-a06b-281f8c4c457a",
   "metadata": {},
   "outputs": [
    {
     "name": "stdout",
     "output_type": "stream",
     "text": [
      "Labels [1, 1, 2, 2, 1, 2, 2, 1, 2, 1, 2, 1, 2, 1, 2, 2, 1, 2, 1, 2]\n"
     ]
    }
   ],
   "source": [
    "y = get_labels(labels)"
   ]
  },
  {
   "cell_type": "markdown",
   "id": "d87aa904-17c0-48fc-b7ef-57885921957a",
   "metadata": {},
   "source": [
    "##### Takes in the Test image data as input"
   ]
  },
  {
   "cell_type": "code",
   "execution_count": 102,
   "id": "ba2cdbe2-0c9a-45e1-adf3-77734f1971a5",
   "metadata": {},
   "outputs": [
    {
     "name": "stdout",
     "output_type": "stream",
     "text": [
      "Input Data Shape (10, 10201)\n",
      "Input Data [[158 167 174 ... 118 117 118]\n",
      " [ 52  64  75 ...  60 136 224]\n",
      " [110 111 111 ...  74  73  78]\n",
      " ...\n",
      " [ 10  16  22 ...  62  64  62]\n",
      " [ 58  91 111 ...  43  50  57]\n",
      " [123 123 123 ...  65  78  96]]\n"
     ]
    }
   ],
   "source": [
    "X_test, labels_test = get_data('test')"
   ]
  },
  {
   "cell_type": "markdown",
   "id": "3f4e7815-4d89-4cf9-8406-f80a4c51c22b",
   "metadata": {},
   "source": [
    "##### PCA projects the Test data to K-Dimensional vector"
   ]
  },
  {
   "cell_type": "code",
   "execution_count": 103,
   "id": "3742f939-217a-4405-82c6-5cdde93b0558",
   "metadata": {},
   "outputs": [],
   "source": [
    "P_test = pca.transform(X_test)"
   ]
  },
  {
   "cell_type": "markdown",
   "id": "a4a70ed8-ff9a-462b-9e99-c08dfd0252e7",
   "metadata": {},
   "source": [
    "### 4) a) SVM Implementation"
   ]
  },
  {
   "cell_type": "code",
   "execution_count": 105,
   "id": "29d65067-f2cf-4379-8306-263ca1fe852a",
   "metadata": {},
   "outputs": [
    {
     "name": "stdout",
     "output_type": "stream",
     "text": [
      "Labels [2, 1, 1, 1, 2, 1, 1, 2, 1, 2]\n"
     ]
    },
    {
     "data": {
      "image/png": "[encoded data removed]",
      "text/plain": [
       "<Figure size 720x504 with 1 Axes>"
      ]
     },
     "metadata": {
      "needs_background": "light"
     },
     "output_type": "display_data"
    }
   ],
   "source": [
    "from sklearn.svm import SVC\n",
    "\n",
    "kernel = ['linear', 'poly', 'rbf', 'sigmoid']\n",
    "legend = ['linear - eps 0.1', 'linear - eps 0.0001', 'poly - eps 0.1', 'poly - eps 0.0001', 'rbf - eps 0.1', 'rbf - eps 0.0001', 'sigmoid - eps 0.1', 'sigmoid - - eps 0.0001']\n",
    "color = ['r', 'g', 'b', 'y']\n",
    "C_val = [x/100 for x in range(1, 1000,10)]\n",
    "y_test = get_labels(labels_test)\n",
    "\n",
    "for i in range(len(kernel)):\n",
    "    for tol in range(1,1002, 1000):\n",
    "        accuracy = []\n",
    "        for C in range(1,1000,10):\n",
    "            clf = SVC(kernel = kernel[i], C = C/100, tol = 1/(tol*10))\n",
    "            clf.fit(P,y)\n",
    "            pred = clf.predict(P_test)\n",
    "            acc = 0\n",
    "            for j in range(len(y_test)):\n",
    "                if y_test[j] == pred[j]:\n",
    "                    acc+= 1\n",
    "            accuracy.append(acc/len(y_test)*100)\n",
    "            \n",
    "        if tol == 1:\n",
    "            plt.plot(C_val, accuracy, c = color[i], linestyle = 'dotted')\n",
    "        else:\n",
    "            plt.plot(C_val, accuracy, c = color[i])\n",
    "        \n",
    "plt.legend(legend, loc =\"upper right\")\n",
    "plt.xlabel('C values')\n",
    "plt.ylabel('Accuracy (in %)')\n",
    "plt.title('Accuracy of SVM for different kernels, C and eps')\n",
    "plt.rcParams['figure.figsize'] = [10, 7]\n",
    "plt.show()"
   ]
  },
  {
   "cell_type": "markdown",
   "id": "5caa8b25-d468-43f3-9f2a-7ebe8b0785a7",
   "metadata": {},
   "source": [
    "### Performance Comparison\n",
    "\n",
    "#### Kernel \n",
    "\n",
    "Based on the classification accuracy on test data - sigmoid kernel performs better than the rest,  \n",
    "followed by 'linear kernel',     \n",
    "which is followed by 'rbf' and    \n",
    "'polynomial kernel' with worst performance. \n",
    "\n",
    "#### C \n",
    "\n",
    "C values in the the range 1.5 to 4 performs better than other values of C\n",
    "\n",
    "#### eps\n",
    "\n",
    "The eps with lesser value performs better"
   ]
  },
  {
   "cell_type": "markdown",
   "id": "537f7d49-0cfc-4864-b276-6527531623f1",
   "metadata": {},
   "source": [
    "## Question 4) b) \n",
    "\n",
    "### Comparison of SVM with LDA"
   ]
  },
  {
   "cell_type": "code",
   "execution_count": 106,
   "id": "7dac0732-a840-4ed1-890b-08fafc95cbe2",
   "metadata": {},
   "outputs": [],
   "source": [
    "from sklearn.discriminant_analysis import LinearDiscriminantAnalysis\n",
    "\n",
    "lda = LinearDiscriminantAnalysis(n_components = 1)\n",
    "\n",
    "projected_data_train = lda.fit_transform(P,y)"
   ]
  },
  {
   "cell_type": "markdown",
   "id": "70cfac09-c4eb-4b07-8cac-d29fc0970b18",
   "metadata": {},
   "source": [
    "##### The K-Dimesnional data points from PCA are projected onto a 1-Dimensional vector using LDA"
   ]
  },
  {
   "cell_type": "code",
   "execution_count": 107,
   "id": "692124ea-2755-4b36-9c64-995e25f50e59",
   "metadata": {},
   "outputs": [
    {
     "name": "stdout",
     "output_type": "stream",
     "text": [
      "40.0\n"
     ]
    }
   ],
   "source": [
    "pred_lda = lda.predict(P_test)\n",
    "\n",
    "acc = 0\n",
    "for j in range(len(y_test)):\n",
    "    if y_test[j] == pred_lda[j]:\n",
    "        acc+= 1\n",
    "        \n",
    "print(acc/len(y_test)*100)"
   ]
  },
  {
   "cell_type": "markdown",
   "id": "619be271-f8f9-46dc-9b2b-2de153bad101",
   "metadata": {},
   "source": [
    "### Comparison - Linear SVM and LDA\n",
    "\n",
    "For higher values of K from 18 to 20 - \n",
    "    SVM performs much better than LDA (90% accuracy compared to 40-50% accuracy for LDA)\n",
    "    \n",
    "For rest of the values of K -\n",
    "    Both LDA and SVM perform equally better with 80 - 90% accuracy"
   ]
  }
 ],
 "metadata": {
  "kernelspec": {
   "display_name": "Python 3 (ipykernel)",
   "language": "python",
   "name": "python3"
  },
  "language_info": {
   "codemirror_mode": {
    "name": "ipython",
    "version": 3
   },
   "file_extension": ".py",
   "mimetype": "text/x-python",
   "name": "python",
   "nbconvert_exporter": "python",
   "pygments_lexer": "ipython3",
   "version": "3.9.7"
  }
 },
 "nbformat": 4,
 "nbformat_minor": 5
}
