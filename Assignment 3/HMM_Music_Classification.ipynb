{
 "cells": [
  {
   "cell_type": "markdown",
   "id": "5d1f97d5-65b6-43f9-b0e8-bb70228b36d2",
   "metadata": {},
   "source": [
    "# HMM for Music and Speech Audio Classification\n",
    "\n",
    "Using Hidden Markov Model to classify music and speech audio files.\n",
    "\n",
    "Libraries used:\n",
    "1) Numpy - for numerical computations such as fft(), dot operator\n",
    "2) Scipy - to read the .wav file and find the likelihood of data points\n",
    "3) Matplotlib - to plot the spectogram\n",
    "\n",
    "## Frame Subsampling is NOT used\n",
    "All the 2998 frames in each audio file is used as an observation."
   ]
  },
  {
   "cell_type": "code",
   "execution_count": 1,
   "id": "932b2c92-06b6-4696-b527-d43e9fa5229b",
   "metadata": {},
   "outputs": [],
   "source": [
    "import numpy as np\n",
    "\n",
    "from scipy.io import wavfile\n",
    "from scipy import signal\n",
    "\n",
    "import matplotlib.pyplot as plt\n",
    "import os\n",
    "import random\n",
    "import copy"
   ]
  },
  {
   "cell_type": "markdown",
   "id": "392b6262-8896-4f2b-9556-9b902001b1c0",
   "metadata": {},
   "source": [
    "### Question 3) a)"
   ]
  },
  {
   "cell_type": "markdown",
   "id": "fcb64d1c-2d47-4edf-a22b-3cf3545683ac",
   "metadata": {},
   "source": [
    "### Function read_audio()\n",
    "\n",
    "Reads the .wav file and returns the sample_rate and the wav_file."
   ]
  },
  {
   "cell_type": "code",
   "execution_count": 2,
   "id": "321fdb51-71f1-4837-bb30-75789978c297",
   "metadata": {},
   "outputs": [],
   "source": [
    "def read_audio(folder, input):\n",
    "    sample_rate, wav_file = wavfile.read('speech_music_classification/'+folder+input)\n",
    "    \n",
    "    #print(\"Sample rate\", sample_rate)\n",
    "    \n",
    "    length = len(wav_file)\n",
    "    \n",
    "    #print(length, wav_file)\n",
    "    \n",
    "    time_frame = length / sample_rate\n",
    "    \n",
    "    #To plot the audio wave\n",
    "    #time = [i/sample_rate for i in range(len(wav_file))]\n",
    "    #plt.plot(time, wav_file)\n",
    "    #plt.show()\n",
    "    \n",
    "    return sample_rate, wav_file"
   ]
  },
  {
   "cell_type": "markdown",
   "id": "8b6137a0-3138-4912-a039-25b2a5c0e031",
   "metadata": {},
   "source": [
    "### Function fft()\n",
    "\n",
    "<strong> Window size </strong> = 25 ms = 25 / 1000 * 16000 = 400 samples\n",
    "\n",
    "<strong> Shift </strong> = 10 ms = 10 / 1000 * 16000 = 160 samples\n",
    "\n",
    "##### For each window, computes 64 point magnitude FFT and retains the first 32 dimensions in each window, apply log of the magnitude of the FFT.\n",
    "\n",
    "##### Returns the spectogram of dimension 32 x 2998."
   ]
  },
  {
   "cell_type": "code",
   "execution_count": 3,
   "id": "7e34b1c4-0c18-4c07-9672-ec7e73f75c06",
   "metadata": {},
   "outputs": [],
   "source": [
    "def fft(sample_rate, wav_file):\n",
    "    length = len(wav_file)\n",
    "    \n",
    "    start = 0\n",
    "    window_size = 25 * sample_rate // 1000\n",
    "\n",
    "    shift = 10 * sample_rate // 1000\n",
    "    \n",
    "    #print(\"Windows size\", window_size)\n",
    "    #print(\"Shift\", shift)\n",
    "\n",
    "    i = 0\n",
    "    while start + window_size <= length:    \n",
    "        fft = np.abs(np.fft.fft(wav_file[start:start+window_size], axis= 0 , n=64)[:32])\n",
    "        with np.errstate(divide='ignore'):\n",
    "            fft = np.log(fft)\n",
    "        fft[np.isneginf(fft)]=0\n",
    "        \n",
    "        if start == 0:\n",
    "            spectogram = fft\n",
    "        else:\n",
    "            spectogram = np.vstack((spectogram, fft))\n",
    "\n",
    "        start += shift\n",
    "        i+=1\n",
    "    \n",
    "    return spectogram"
   ]
  },
  {
   "cell_type": "markdown",
   "id": "59d9227a-78ff-4dd2-95b9-a63ac381781b",
   "metadata": {},
   "source": [
    "### Function get_input_vector()\n",
    "\n",
    "Reads the audio files in train dataset and performs fft on it to get the respective spectogram. \n",
    "\n",
    "#### Returns the spectogram of all audio files in the given folder as a combined input vector. "
   ]
  },
  {
   "cell_type": "code",
   "execution_count": 4,
   "id": "17c6b78d-677c-4713-99f8-629b0b00be93",
   "metadata": {},
   "outputs": [],
   "source": [
    "music_file = []\n",
    "speech_file = []\n",
    "\n",
    "def get_input_vector(path, folder_name):\n",
    "    input_feature = np.zeros((0, 32))\n",
    "\n",
    "    for dirname, _, filenames in os.walk(path):\n",
    "        for filename in filenames:\n",
    "            if folder_name == 'train/music/':\n",
    "                music_file.append(filename)\n",
    "            else:\n",
    "                speech_file.append(filename)\n",
    "                \n",
    "            sample_rate, audio_wav = read_audio(folder_name, filename)\n",
    "            audio_spec = fft(sample_rate, audio_wav)\n",
    "\n",
    "            #plot_spectogram(audio_spec)\n",
    "\n",
    "            input_feature = np.vstack((input_feature, audio_spec))\n",
    "    return input_feature"
   ]
  },
  {
   "cell_type": "markdown",
   "id": "0343b639-9c44-4c0c-a79f-dd38e8bf27e2",
   "metadata": {},
   "source": [
    "#### Gets the input vector for the music files in train folder"
   ]
  },
  {
   "cell_type": "code",
   "execution_count": 5,
   "id": "e1c481a0-0c36-431d-a636-984bb3b558e3",
   "metadata": {},
   "outputs": [
    {
     "name": "stdout",
     "output_type": "stream",
     "text": [
      "Shape of Music Audio input  (119920, 32)\n"
     ]
    }
   ],
   "source": [
    "music_feature = get_input_vector(\"speech_music_classification/train/music\", 'train/music/')\n",
    "\n",
    "print(\"Shape of Music Audio input \", music_feature.shape)"
   ]
  },
  {
   "cell_type": "markdown",
   "id": "0cb9a953-2a1e-440e-bd6a-8a3ab1a73e11",
   "metadata": {},
   "source": [
    "#### Gets the input vector for the speech files in train folder"
   ]
  },
  {
   "cell_type": "code",
   "execution_count": 6,
   "id": "27f50556-02d3-4e03-897b-e6659033aa3f",
   "metadata": {},
   "outputs": [
    {
     "name": "stdout",
     "output_type": "stream",
     "text": [
      "Shape of Speech Audio input  (119920, 32)\n"
     ]
    }
   ],
   "source": [
    "speech_feature = get_input_vector(\"speech_music_classification/train/speech\", 'train/speech/')\n",
    "\n",
    "print(\"Shape of Speech Audio input \", speech_feature.shape)"
   ]
  },
  {
   "cell_type": "code",
   "execution_count": 7,
   "id": "49c5d2f9-2816-4cd9-8dff-74aa838da50f",
   "metadata": {},
   "outputs": [
    {
     "name": "stdout",
     "output_type": "stream",
     "text": [
      "Shape of Both Music and Speech Audio input  (239840, 32)\n"
     ]
    }
   ],
   "source": [
    "all_features = np.vstack((music_feature, speech_feature))\n",
    "\n",
    "print(\"Shape of Both Music and Speech Audio input \", all_features.shape)"
   ]
  },
  {
   "cell_type": "markdown",
   "id": "894e0c6c-427f-44ef-af6a-0bd8e4671710",
   "metadata": {},
   "source": [
    "### Question 3) b)\n",
    "\n",
    "### Class KMeans\n",
    "\n",
    "#### Attributes\n",
    "1) n_clusters : Number of clusters\n",
    "2) centroid:    Centroid of each cluster\n",
    "3) clusters:    Data points in each cluster\n",
    "4) max_iter:    Maximum iteration limit\n",
    "5) tol:         Error tolerance\n",
    "\n",
    "#### Function fit(X)\n",
    "\n",
    "Performs KMeans clustering algorithm on the given input data.\n",
    "\n",
    "Computes the centroid and data points present on each cluster.\n",
    "\n",
    "#### Function predict(x)\n",
    "\n",
    "Predicts the cluster of the given data point"
   ]
  },
  {
   "cell_type": "code",
   "execution_count": 8,
   "id": "9ca105ca-3b3f-44cb-8541-9119271ba85f",
   "metadata": {},
   "outputs": [],
   "source": [
    "class KMeans():\n",
    "    \n",
    "    \"\"\"\n",
    "    Attributes\n",
    "        1) n_clusters : Number of clusters\n",
    "        2) centroid:    Centroid of each cluster\n",
    "        3) clusters:    Data points in each cluster\n",
    "        4) max_iter:    Maximum iteration limit\n",
    "        5) tol:         Error tolerance\n",
    "\n",
    "    Function fit(X)\n",
    "\n",
    "        Performs KMeans clustering algorithm on the given input data.\n",
    "\n",
    "        Computes the centroid and data points present on each cluster.\n",
    "        \n",
    "    Function predict(x)\n",
    "\n",
    "        Predicts the cluster of the given data point\n",
    "\n",
    "    \"\"\"\n",
    "    \n",
    "    def __init__(self, n_clusters, max_iter, tol = 0.01):\n",
    "        self.n_clusters = n_clusters\n",
    "        self.max_iter   = max_iter\n",
    "        self.tol        = tol\n",
    "        \n",
    "    # X - shape (n_samples, n_features)\n",
    "    def fit(self, X):\n",
    "        \n",
    "        self.centroid = np.zeros((self.n_clusters, X.shape[1]))\n",
    "        \n",
    "        data_points = random.sample(range(X.shape[0]), self.n_clusters)\n",
    "        \n",
    "        for i in range(self.n_clusters):\n",
    "            self.centroid[i,:] = X[data_points[i]]\n",
    "        \n",
    "        epsilon = self.tol + 1\n",
    "        for i in range(self.max_iter):\n",
    "            \n",
    "            if epsilon < self.tol:\n",
    "                break\n",
    "            \n",
    "            self.clusters = [[] for i in range(self.n_clusters)]\n",
    "            \n",
    "            for sample in X:\n",
    "                idx = np.argmin(np.linalg.norm(self.centroid - sample,axis =1)) \n",
    "                self.clusters[idx].append(sample)\n",
    "            \n",
    "            previous_centroid = copy.deepcopy(self.centroid[:])\n",
    "            \n",
    "            epsilon = 0\n",
    "            for j in range(self.n_clusters):\n",
    "                \n",
    "                if len(self.clusters[j]) == 0:\n",
    "                    continue\n",
    "                    \n",
    "                self.centroid[j] = np.mean(np.array(self.clusters[j]), axis = 0)\n",
    "\n",
    "                err = abs(self.centroid[j] - previous_centroid[j])\n",
    "                epsilon = max(epsilon, sum(err))\n",
    "    \n",
    "    # x - shape (1, n_features)\n",
    "    def predict(self, x):\n",
    "        return np.argmin(np.linalg.norm(self.centroid - x,axis =1)) "
   ]
  },
  {
   "cell_type": "markdown",
   "id": "dae03403-d026-4e94-bc7c-3ffbb46eba5f",
   "metadata": {},
   "source": [
    "##### Performing K-means clustering on the spectrogram with K= 8 (using both speechand music data) and \n",
    "##### clustering the spectrogram features into discrete symbols."
   ]
  },
  {
   "cell_type": "code",
   "execution_count": 21,
   "id": "8224edfc-db4f-4bf5-890a-90c46c132f26",
   "metadata": {},
   "outputs": [],
   "source": [
    "k_means = KMeans(n_clusters = 8, max_iter = 15)\n",
    "\n",
    "k_means.fit(all_features)"
   ]
  },
  {
   "cell_type": "markdown",
   "id": "9abe5613-3775-4522-8cf8-aee58ec867a8",
   "metadata": {},
   "source": [
    "### Question 3) c)\n",
    "\n",
    "### HMM Parameter Initialization"
   ]
  },
  {
   "cell_type": "code",
   "execution_count": 10,
   "id": "adc9c8d2-9fb3-45c5-ba02-3edb5275084d",
   "metadata": {},
   "outputs": [],
   "source": [
    "pi = np.asarray([0.5, 0.5, 0])\n",
    "\n",
    "A = np.asarray([[0.6, 0.4, 0], [0.3, 0.5, 0.2], [0, 0.1, 0.9]])\n",
    "\n",
    "B = np.asarray([[0.25, 0.25, 0.25, 0.25, 0, 0, 0, 0], [0.125, 0.125, 0.125, 0.125, 0.125, 0.125, 0.125, 0.125], [0, 0, 0, 0, 0, 0.5, 0.5, 0]])"
   ]
  },
  {
   "cell_type": "markdown",
   "id": "b9b07b0f-767c-4296-a0a6-b734d286d130",
   "metadata": {},
   "source": [
    "### Class HMM\n",
    "\n",
    "#### Attributes\n",
    "1) N :       Number of states\n",
    "2) M:        Number of observation symbols\n",
    "3) pi:       Initial State Distribution\n",
    "4) A:        State transition matrix\n",
    "5) B:        Observation symbol probability distribution\n",
    "6) max_iter: Maximum number of iterations for reestimation\n",
    "\n",
    "### Functions\n",
    "\n",
    "#### forward_procedure(X)  \n",
    "\n",
    "Computes the probability of the given observation sequence given the model.  \n",
    "\n",
    "#### backward_procedure(X)  \n",
    "\n",
    "Computes the probability of the given observation sequence given the model.\n",
    "\n",
    "#### viterbi(X)\n",
    "\n",
    "To find the single best state sequence for the given observation sequence.\n",
    "\n",
    "#### re-estimation(X)\n",
    "\n",
    "Baum-Welch Re-estimation method to train HMMs."
   ]
  },
  {
   "cell_type": "code",
   "execution_count": 11,
   "id": "b3b65737-a63b-4c6f-8de8-a8d78ee7838d",
   "metadata": {},
   "outputs": [],
   "source": [
    "class HMM:\n",
    "    \n",
    "    def __init__(self, N, M, pi, A, B, max_iter):\n",
    "        self.N = N\n",
    "        self.M = M\n",
    "        self.pi = copy.deepcopy(pi)\n",
    "        self.A = copy.deepcopy(A)\n",
    "        self.B = copy.deepcopy(B)\n",
    "        self.max_iter = max_iter\n",
    "\n",
    "    def forward_procedure(self, X):\n",
    "        T = X.shape[0]\n",
    "\n",
    "        self.c = np.zeros((T))\n",
    "        self.alph = np.zeros((self.N, T))\n",
    "\n",
    "        b_i = k_means.predict(X[0])          \n",
    "        self.alph[:,0] = self.pi[:] * B[:,b_i]\n",
    "        self.c[0] = 1/ np.sum(self.alph[:, 0])\n",
    "\n",
    "        self.alph[:, 0] = self.c[0]*self.alph[:, 0]\n",
    "\n",
    "        for t in range(1, T):\n",
    "            self.c[t] = 0\n",
    "            b_i = k_means.predict(X[t])\n",
    "            for i in range(self.N):\n",
    "                self.alph[i,t] = np.sum(self.alph[:,t-1]*self.A[:,i]) * self.B[i,b_i]\n",
    "            \n",
    "            self.c[t] = 1 / np.sum(self.alph[:,t])\n",
    "            self.alph[:,t] = self.c[t] * self.alph[:,t]\n",
    "        \n",
    "        ans = -np.sum(np.log(self.c))\n",
    "        return ans\n",
    "\n",
    "    def backward_procedure(self, X):\n",
    "        T = X.shape[0]\n",
    "        \n",
    "        self.beta = np.zeros((self.N, T))\n",
    "        \n",
    "        self.beta[:,-1] = self.c[-1]\n",
    "            \n",
    "        for t in range(T-2, -1, -1):\n",
    "            b_i = k_means.predict(X[t+1])\n",
    "            for i in range(self.N):\n",
    "                self.beta[i,t] = np.sum(self.A[i,:]*self.B[:,b_i]*self.beta[:,t+1]) *self.c[t]\n",
    "        \n",
    "        ans = -np.sum(np.log(self.c))\n",
    "        return ans\n",
    "    \n",
    "    def viterbi(self, X):\n",
    "        T = X.shape[0]\n",
    "        \n",
    "        pi = np.log(self.pi)\n",
    "        A = np.log(self.A)\n",
    "        B = np.log(self.B)\n",
    "        \n",
    "        delta = np.zeros((self.N, T))\n",
    "        psi = np.zeros((self.N, T))\n",
    "        \n",
    "        b_i = k_means.predict(X[0])\n",
    "        for i in range(self.N):\n",
    "            delta[i,0] = pi[i] + B[i, b_i]\n",
    "            psi[i,0] = 0\n",
    "            \n",
    "        for t in range(1, T):\n",
    "            b_i = k_means.predict(X[t])\n",
    "            \n",
    "            for j in range(self.N):\n",
    "                delta[j,t] = np.max(delta[:, t-1] + A[:,j]) + B[j, b_i]\n",
    "                psi[j,t] = np.argmax(delta[:, t-1] + A[:,j])\n",
    "                \n",
    "        state_obs = np.zeros(( T))\n",
    "        state_obs[T-1] = int(np.argmax(delta[:, -1]))\n",
    "        \n",
    "        for t in range(T-2, -1, -1):\n",
    "            state_obs[t] = psi[int(state_obs[t+1]), t+1]\n",
    "        \n",
    "        return state_obs\n",
    "            \n",
    "    def reestimate(self, X):\n",
    "        \n",
    "        plot = []\n",
    "        for _ in range(self.max_iter):\n",
    "            \n",
    "            likelihood = self.forward_procedure(X)\n",
    "            print(\"Epoch: \",_+1,\" Likelihood: \",likelihood)\n",
    "            plot.append(likelihood)\n",
    "            \n",
    "            self.backward_procedure(X)\n",
    "\n",
    "            T = X.shape[0]\n",
    "\n",
    "            self.gamma = np.zeros((self.N, T))\n",
    "            self.eps = np.zeros((self.N, self.N, T))\n",
    "            \n",
    "            for t in range(T-1):\n",
    "                b_i = k_means.predict(X[t+1])\n",
    "                for i in range(self.N):\n",
    "                    self.eps[i,:,t] = self.alph[i,t] * self.A[i,:] * self.B[:,b_i] * self.beta[:, t+1]\n",
    "                    self.gamma[i,t] = np.sum(self.eps[i,:,t])\n",
    "\n",
    "            self.gamma[:,-1] = self.alph[:,-1]\n",
    "\n",
    "            # Reestimate pi\n",
    "            self.pi[:] = self.gamma[:,0]\n",
    "\n",
    "            # Reestimate A\n",
    "            for i in range(self.N):\n",
    "                denom = np.sum(self.gamma[i,:-1])\n",
    "                numer = np.sum(self.eps[i,:,:-1], axis = 1)\n",
    "                self.A[i] = numer / denom\n",
    "\n",
    "            #Reestimate B\n",
    "            for i in range(self.N):\n",
    "                denom = np.sum(self.gamma[i,:])\n",
    "                for j in range(self.M):\n",
    "                    numer = 0\n",
    "                    for t in range(T):\n",
    "                        b_i = k_means.predict(X[t])\n",
    "                        if (b_i == j):\n",
    "                            numer = numer + self.gamma[i,t]\n",
    "                    self.B[i,j] = numer / denom\n",
    "            #print(_, self.pi, self.A, self.B)\n",
    "            \n",
    "        plt.scatter([i for i in range(1,self.max_iter+1)], plot,  marker=\"o\", color='b', linewidths=5)\n",
    "        plt.xlabel('Number of Iteration')\n",
    "        plt.ylabel('Log Likelihood')\n",
    "        plt.title('Log Likelihood for each EM iteration')\n",
    "        plt.show()"
   ]
  },
  {
   "cell_type": "code",
   "execution_count": 12,
   "id": "c5272dab-6a11-442c-b02d-de9aef8d1e98",
   "metadata": {},
   "outputs": [
    {
     "name": "stdout",
     "output_type": "stream",
     "text": [
      "Selected music file:  caravan.wav\n",
      "Selected speech file:  china.wav\n"
     ]
    }
   ],
   "source": [
    "music_random = random.randint(0,40)\n",
    "speech_random = random.randint(0,40)\n",
    "\n",
    "print(\"Selected music file: \", music_file[music_random])\n",
    "print(\"Selected speech file: \", speech_file[speech_random])"
   ]
  },
  {
   "cell_type": "markdown",
   "id": "aac455ef-3142-44ef-a8b8-1b5152a87adf",
   "metadata": {},
   "source": [
    "### Question 3) c) a) Forward Procedure"
   ]
  },
  {
   "cell_type": "markdown",
   "id": "e18a350e-0f0e-4dc4-83c2-4ad29628c1af",
   "metadata": {},
   "source": [
    "### Function forward_procedure(X)\n",
    "\n",
    "Computes the probability of the given observation sequence given the model.\n",
    "\n",
    "#### Using scaled forward procedure\n",
    "\n",
    "1) For $i = 0, 1,..., N−1$ compute $\\begin{aligned} \\large \\tilde{\\alpha_t(i)} =  \\sum_{j = 0}^{N -1} \\tilde{\\alpha_{t-1}(j)} a_{ji} b_i(O_t)  \\end{aligned}$\n",
    "\n",
    "2. Let $\\begin{aligned} \\large c_t = \\frac{1}{\\sum_{j=0}^{N-1} \\tilde{\\alpha_{t}(j)}} \\end{aligned}$\n",
    ".\n",
    "3) For $i = 0, 1,..., N−1$ compute $\\begin{aligned} \\large \\tilde{\\alpha_t(i)} = c\\tilde{\\alpha_t(i)}  \\end{aligned} $\n",
    "\n",
    "Probability of the given observation is $ \\begin{aligned} \\large P(O | \\lambda) = \\frac{1}{\\prod_{j = 0}^{T - 1} c_j}  \\end{aligned}$\n",
    "\n",
    "To avoid underflow, we instead compute $ \\begin{aligned} \\large log[P(O | \\lambda)] = −\\sum_{j = 0}^{T - 1} c_j  \\end{aligned}$\n"
   ]
  },
  {
   "cell_type": "code",
   "execution_count": 13,
   "id": "587647b2-224e-4568-afe9-2fcb017b2eb6",
   "metadata": {},
   "outputs": [
    {
     "name": "stdout",
     "output_type": "stream",
     "text": [
      "Likelihood of music file under this model:  -6850.78875011269\n",
      "Likelihood of speech file under this model:  -6297.510537324253\n",
      "Under the given model, the selected speech file has more likelihood\n"
     ]
    }
   ],
   "source": [
    "hmm_init_music = HMM(3, 8, pi, A, B, max_iter = 20)\n",
    "hmm_init_speech = HMM(3, 8, pi, A, B, max_iter = 20)\n",
    "\n",
    "prob_music = hmm_init_music.forward_procedure(music_feature[2998*music_random: 2998*(music_random+1),:])\n",
    "print(\"Likelihood of music file under this model: \", prob_music)\n",
    "\n",
    "prob_speech = hmm_init_speech.forward_procedure(speech_feature[2998*speech_random: 2998*(speech_random+1),:])\n",
    "print(\"Likelihood of speech file under this model: \", prob_speech)\n",
    "\n",
    "if prob_music >= prob_speech:\n",
    "    print(\"Under the given model, the selected music file has more likelihood\")\n",
    "else:\n",
    "    print(\"Under the given model, the selected speech file has more likelihood\")"
   ]
  },
  {
   "cell_type": "markdown",
   "id": "fd4ac5dd-264e-4953-bfd0-37b225ec4b02",
   "metadata": {},
   "source": [
    "### Question 3) c) b) Backward Procedure"
   ]
  },
  {
   "cell_type": "markdown",
   "id": "e39e2e94-789d-4882-8b4d-4e82bec965a9",
   "metadata": {},
   "source": [
    "### Function backward_procedure(X)\n",
    "\n",
    "Computes the probability of the given observation sequence given the model.\n",
    "\n",
    "#### Using scaled backward procedure\n",
    "\n",
    "1) For $i = 0, 1,..., N−1$ compute $\\begin{aligned} \\large \\tilde{\\beta_{T-1}(i)} = c_{T-1}  \\end{aligned}$\n",
    "\n",
    "2. <strong> Induction: </strong> For $t = T - 2, T - 3,..., 0$ and $i = 0, 1,..., N−1$,  \n",
    "compute $\\begin{aligned} \\large \\tilde{\\beta_{t}(i)} = c_t \\sum_{j = 0}^{N -1} a_{ij}b_j(O_{t+1}) \\tilde{\\beta_{t+1}(j)} \\end{aligned}$"
   ]
  },
  {
   "cell_type": "code",
   "execution_count": 14,
   "id": "4a341e6c-6beb-44ee-b37a-c1558f8ca36f",
   "metadata": {},
   "outputs": [
    {
     "name": "stdout",
     "output_type": "stream",
     "text": [
      "Likelihood of music file under this model:  -6850.78875011269\n",
      "Likelihood of speech file under this model:  -6297.510537324253\n",
      "Under the given model, the selected speech file has more likelihood\n"
     ]
    }
   ],
   "source": [
    "prob_music_back = hmm_init_music.backward_procedure(music_feature[2998*music_random: 2998*(music_random+1),:])\n",
    "print(\"Likelihood of music file under this model: \", prob_music_back)\n",
    "\n",
    "prob_speech_back = hmm_init_speech.backward_procedure(speech_feature[2998*speech_random: 2998*(speech_random+1),:])\n",
    "print(\"Likelihood of speech file under this model: \", prob_speech_back)\n",
    "\n",
    "if prob_music_back >= prob_speech_back:\n",
    "    print(\"Under the given model, the selected music file has more likelihood\")\n",
    "else:\n",
    "    print(\"Under the given model, the selected speech file has more likelihood\")"
   ]
  },
  {
   "cell_type": "markdown",
   "id": "6872cd3e-7bd5-4e45-9cb1-ade3e926b26b",
   "metadata": {},
   "source": [
    "### Yes, both the forward and backward procedure gave the same likelihood"
   ]
  },
  {
   "cell_type": "markdown",
   "id": "9990bd6e-4260-4889-a81e-ef692df495f5",
   "metadata": {},
   "source": [
    "### Question 3) c) c) Viterbi Algorithm"
   ]
  },
  {
   "cell_type": "markdown",
   "id": "daa120a5-431b-4d8d-b298-2df84a27ceea",
   "metadata": {},
   "source": [
    "### Function viterbi(X)\n",
    "\n",
    "To find the single best state sequence for the given observation sequence\n",
    "\n",
    "#### Using log based viterbi algorithm\n",
    "\n",
    "1) <strong> Preprocessing </strong>  \n",
    "$ \\large \\tilde{\\pi_i} = log(\\pi_i) $     for $i = 0, 1,..., N−1$  \n",
    "$ \\large \\tilde{a_{ij}} = log(a_{ij}) $   for $0 \\leq i,j, \\leq N−1$  \n",
    "$ \\large \\tilde{b_i(O_t)} = log(b_i(O_t)) $     for $i = 0, 1,..., N−1$ and $t = 0, 1,..., T−1$  \n",
    "  \n",
    "2) <strong> Initialization: </strong> For $i = 0, 1,..., N−1$   \n",
    "$ \\large \\tilde{\\delta_0(i)} = log(\\delta_0(i)) = \\tilde{\\pi_i} + \\tilde{b_i(O_0)} $    \n",
    "$ \\large \\psi_0(i) = 0 $     \n",
    "  \n",
    "3) <strong> Recursion: </strong> For $j = 0, 1,..., N−1$ and $t = 1, 2,..., T−1$   \n",
    "$ \\large \\tilde{\\delta_t(j)} = log(\\delta_t(j)) = \\underset{i}{max} [\\tilde{\\delta_{t-1}(i)} + \\tilde{a_{ij}} ] + \\tilde{b_j(O_t)}$  \n",
    "$ \\large \\psi_t(j) = \\underset{i}{argmax} [\\tilde{\\delta_{t-1}(i)} + \\tilde{a_{ij}} ] $  \n",
    "  \n",
    "4) <strong> Termination: </strong>    \n",
    "$ \\large \\tilde{P^*} = \\underset{i}{max} [\\tilde{\\delta_{T-1}(i)} ] $    \n",
    "$ \\large q_{T-1}^* = \\underset{i}{argmax} [\\tilde{\\delta_{T-1}(i)} ] $  \n",
    "\n",
    "5) <strong> Backtracking: </strong> For $t = T - 2, T - 3,..., 0$  \n",
    "$ \\large q_{t}^* = \\psi_{t+1}(q_{t+1}^* $"
   ]
  },
  {
   "cell_type": "code",
   "execution_count": 15,
   "id": "0b32216d-42f5-4391-9a90-e0f0475da3e7",
   "metadata": {},
   "outputs": [
    {
     "name": "stderr",
     "output_type": "stream",
     "text": [
      "C:\\Users\\kawin\\AppData\\Local\\Temp\\ipykernel_12888\\2557242602.py:53: RuntimeWarning: divide by zero encountered in log\n",
      "  pi = np.log(self.pi)\n",
      "C:\\Users\\kawin\\AppData\\Local\\Temp\\ipykernel_12888\\2557242602.py:54: RuntimeWarning: divide by zero encountered in log\n",
      "  A = np.log(self.A)\n",
      "C:\\Users\\kawin\\AppData\\Local\\Temp\\ipykernel_12888\\2557242602.py:55: RuntimeWarning: divide by zero encountered in log\n",
      "  B = np.log(self.B)\n"
     ]
    },
    {
     "name": "stdout",
     "output_type": "stream",
     "text": [
      "The best state sequence for given music observation:  [1. 1. 1. ... 1. 0. 0.]\n",
      "The best state sequence for given speech observation:  [1. 1. 1. ... 1. 2. 2.]\n"
     ]
    }
   ],
   "source": [
    "state_seq = hmm_init_music.viterbi(music_feature[2998*music_random: 2998*(music_random+1),:])\n",
    "print(\"The best state sequence for given music observation: \", state_seq)\n",
    "\n",
    "state_seq_speech = hmm_init_speech.viterbi(speech_feature[2998*speech_random: 2998*(speech_random+1),:])\n",
    "print(\"The best state sequence for given speech observation: \", state_seq_speech)"
   ]
  },
  {
   "cell_type": "markdown",
   "id": "0c9e1c60-630e-430b-a46c-b81fd48bae0b",
   "metadata": {},
   "source": [
    "### Question 3) c) d) Baum-Welch Re-estimation method"
   ]
  },
  {
   "cell_type": "markdown",
   "id": "60b360a3-4280-4237-9f91-40492079f547",
   "metadata": {},
   "source": [
    "### Function Baum-Welch Re-estimation method\n",
    "\n",
    "To train HMMs\n",
    "\n",
    "#### Using scaled re-estimation method\n",
    "\n",
    "1) Run forward_procedure and calculate the likelihood and $\\alpha$  \n",
    "  \n",
    "2) Run backward_procedure and find $\\beta$  \n",
    "  \n",
    "3) For $0 \\leq i,j, \\leq N−1$  and $t = 0, 1,..., T−1$   \n",
    "<center> $ \\large \\xi_t(i,j) = \\frac{\\alpha_t(i) a_{ij} b_j(O_{t+1}) \\beta_{t+1}(j) }{\\sum_{i=0}^{N-1} \\sum_{j=0}^{N-1} \\alpha_t(i) a_{ij} b_j(O_{t+1}) \\beta_{t+1}(j)} $ </center>  \n",
    "  \n",
    "4) For $0 \\leq i, \\leq N−1$  and $t = 0, 1,..., T−1$       \n",
    "<center> $ \\large \\gamma_t(i) = \\sum_{j=0}^{N-1} \\xi_t(i,j) $  </center>  \n",
    "\n",
    "5) <strong> Reestimate $\\pi$ </strong>  \n",
    "<center> $ \\large \\pi_i = \\gamma_1(i) $ </center>    \n",
    "  \n",
    "6) <strong> Reestimate A </strong>   \n",
    "<center> $ \\large a_{ij} = \\frac{\\sum_{t=0}^{T-2} \\xi_t(i,j)}{\\sum_{t=0}^{T-2} \\gamma_t(i)}  $ </center>  \n",
    "  \n",
    "7) <strong> Reestimate B  </strong>  \n",
    "<center> $ \\large b_j(k) = \\frac{\\underset{s.t O_t = k}{\\sum_{t=0}^{T-1}} \\gamma_t(j)}{\\sum_{t=0}^{T-1} \\gamma_t(j)} $ </center>"
   ]
  },
  {
   "cell_type": "code",
   "execution_count": 22,
   "id": "6627fe37-2e17-41fd-be94-7cddb5db8904",
   "metadata": {},
   "outputs": [
    {
     "name": "stdout",
     "output_type": "stream",
     "text": [
      "Epoch:  1  Likelihood:  -251870.16717951035\n",
      "Epoch:  2  Likelihood:  -210299.77815500685\n",
      "Epoch:  3  Likelihood:  -208162.67748466076\n",
      "Epoch:  4  Likelihood:  -207006.6433099911\n",
      "Epoch:  5  Likelihood:  -206291.17173292127\n",
      "Epoch:  6  Likelihood:  -205526.50277976162\n",
      "Epoch:  7  Likelihood:  -205018.69843061137\n",
      "Epoch:  8  Likelihood:  -204818.9933439789\n",
      "Epoch:  9  Likelihood:  -204666.41441502637\n",
      "Epoch:  10  Likelihood:  -204493.09860048792\n"
     ]
    },
    {
     "data": {
      "image/png": "[encoded data removed]",
      "text/plain": [
       "<Figure size 432x288 with 1 Axes>"
      ]
     },
     "metadata": {
      "needs_background": "light"
     },
     "output_type": "display_data"
    }
   ],
   "source": [
    "hmm_music = HMM(3, 8, pi, A, B, max_iter = 10)\n",
    "\n",
    "hmm_music.reestimate(music_feature)"
   ]
  },
  {
   "cell_type": "code",
   "execution_count": 23,
   "id": "0571359e-7ad8-4927-b8e1-f7e3fa464cf8",
   "metadata": {},
   "outputs": [
    {
     "name": "stdout",
     "output_type": "stream",
     "text": [
      "Epoch:  1  Likelihood:  -266999.2060673896\n",
      "Epoch:  2  Likelihood:  -219026.46345208652\n",
      "Epoch:  3  Likelihood:  -215029.30886295764\n",
      "Epoch:  4  Likelihood:  -213195.91574769164\n",
      "Epoch:  5  Likelihood:  -211856.73712528925\n",
      "Epoch:  6  Likelihood:  -210157.91140355953\n",
      "Epoch:  7  Likelihood:  -207758.6772011333\n",
      "Epoch:  8  Likelihood:  -206115.08044908708\n",
      "Epoch:  9  Likelihood:  -205467.7364638876\n",
      "Epoch:  10  Likelihood:  -204957.4311195665\n"
     ]
    },
    {
     "data": {
      "image/png": "[encoded data removed]",
      "text/plain": [
       "<Figure size 432x288 with 1 Axes>"
      ]
     },
     "metadata": {
      "needs_background": "light"
     },
     "output_type": "display_data"
    }
   ],
   "source": [
    "hmm_speech = HMM(3, 8, pi, A, B, max_iter = 10)\n",
    "\n",
    "hmm_speech.reestimate(speech_feature)"
   ]
  },
  {
   "cell_type": "markdown",
   "id": "8ce12d90-d831-4c73-8555-ad29d564d8e2",
   "metadata": {},
   "source": [
    "### Yes, the EM algorithm improve the likelihood at each iteration"
   ]
  },
  {
   "cell_type": "code",
   "execution_count": 24,
   "id": "d8c0d267-3ea5-4710-b36c-683dfa72fd2c",
   "metadata": {},
   "outputs": [
    {
     "name": "stdout",
     "output_type": "stream",
     "text": [
      "Accuracy 39 81.25\n"
     ]
    }
   ],
   "source": [
    "folders = ['speech_', 'music_']\n",
    "\n",
    "accuracy = 0\n",
    "\n",
    "for j in range(2):\n",
    "    for i in range(1, 24):\n",
    "        feature = np.zeros((0, 32))\n",
    "        sample_rate, clean_wav = read_audio('test/', folders[j]+str(i)+'.wav')\n",
    "        clean_spec = fft(sample_rate, clean_wav)\n",
    "        \n",
    "        prob_music = hmm_music.forward_procedure(clean_spec)\n",
    "\n",
    "        prob_speech = hmm_speech.forward_procedure(clean_spec)\n",
    "        \n",
    "        if j == 1 and prob_music >= prob_speech:\n",
    "            accuracy+=1\n",
    "        elif j == 0 and prob_music <= prob_speech:\n",
    "            accuracy+=1\n",
    "            \n",
    "print(\"Accuracy: \", accuracy, accuracy/48 * 100)"
   ]
  },
  {
   "cell_type": "markdown",
   "id": "00f83444-8e8c-4d17-a119-ceb3890e7e90",
   "metadata": {},
   "source": [
    "### Question 3) d)\n",
    "\n",
    "## Total Test Accuracy: 81.25 %"
   ]
  }
 ],
 "metadata": {
  "kernelspec": {
   "display_name": "Python 3 (ipykernel)",
   "language": "python",
   "name": "python3"
  },
  "language_info": {
   "codemirror_mode": {
    "name": "ipython",
    "version": 3
   },
   "file_extension": ".py",
   "mimetype": "text/x-python",
   "name": "python",
   "nbconvert_exporter": "python",
   "pygments_lexer": "ipython3",
   "version": "3.9.7"
  }
 },
 "nbformat": 4,
 "nbformat_minor": 5
}
