{
 "cells": [
  {
   "cell_type": "markdown",
   "metadata": {
    "id": "c-nj8fC1CVxG"
   },
   "source": [
    "# Implementing DNN and CNN on MNIST dataset\n",
    "\n",
    "Implemented 2 and 3 hidden layer DNN and a single convolutional layer CNN  \n",
    "for classification of digits on MNIST dataset\n",
    "\n",
    "Libraries used:  \n",
    "1) PyTorch - for implementing DNN and CNN  \n",
    "2) Matplotlib - to plot the graph"
   ]
  },
  {
   "cell_type": "code",
   "execution_count": 1,
   "metadata": {
    "id": "1gofexyVrvy0"
   },
   "outputs": [],
   "source": [
    "import torch\n",
    "import torch.nn as nn\n",
    "import torchvision\n",
    "import torchvision.transforms as transforms\n",
    "import matplotlib.pyplot as plt"
   ]
  },
  {
   "cell_type": "code",
   "execution_count": 2,
   "metadata": {
    "id": "DjuRrOzVr8lr"
   },
   "outputs": [],
   "source": [
    "device = torch.device('cuda' if torch.cuda.is_available() else 'cpu')"
   ]
  },
  {
   "cell_type": "markdown",
   "metadata": {
    "id": "kQeTRYNlC912"
   },
   "source": [
    "#### Setting the hyper-parameters"
   ]
  },
  {
   "cell_type": "code",
   "execution_count": 3,
   "metadata": {
    "id": "7OL8huW2sBVu"
   },
   "outputs": [],
   "source": [
    "input_size = 784 # 28x28\n",
    "hidden_size = 512\n",
    "num_classes = 10\n",
    "num_epochs = 5\n",
    "batch_size = 100\n",
    "learning_rate = 0.001"
   ]
  },
  {
   "cell_type": "markdown",
   "metadata": {
    "id": "ghoGpl8mDEV6"
   },
   "source": [
    "#### Importing the MNIST dataset"
   ]
  },
  {
   "cell_type": "code",
   "execution_count": 4,
   "metadata": {
    "id": "6rulD034sImA"
   },
   "outputs": [],
   "source": [
    "train_dataset = torchvision.datasets.MNIST(root='./data', \n",
    "                                           train=True, \n",
    "                                           transform=transforms.ToTensor(),  \n",
    "                                           download=True)\n",
    "\n",
    "test_dataset = torchvision.datasets.MNIST(root='./data', \n",
    "                                          train=False, \n",
    "                                          transform=transforms.ToTensor())"
   ]
  },
  {
   "cell_type": "code",
   "execution_count": 5,
   "metadata": {
    "colab": {
     "base_uri": "https://localhost:8080/"
    },
    "id": "R10WmLUsiN6B",
    "outputId": "c02cc1f7-f1ca-425f-8346-f3d7c5269c29"
   },
   "outputs": [
    {
     "name": "stdout",
     "output_type": "stream",
     "text": [
      "Dataset MNIST\n",
      "    Number of datapoints: 60000\n",
      "    Root location: ./data\n",
      "    Split: Train\n",
      "    StandardTransform\n",
      "Transform: ToTensor()\n",
      "Dataset MNIST\n",
      "    Number of datapoints: 10000\n",
      "    Root location: ./data\n",
      "    Split: Test\n",
      "    StandardTransform\n",
      "Transform: ToTensor()\n"
     ]
    }
   ],
   "source": [
    "print(train_dataset)\n",
    "print(test_dataset)"
   ]
  },
  {
   "cell_type": "markdown",
   "metadata": {
    "id": "18c7UsrHDNqW"
   },
   "source": [
    "#### Loading the datasets into mini-batches of size 100 samples"
   ]
  },
  {
   "cell_type": "code",
   "execution_count": 6,
   "metadata": {
    "id": "VYnbDIMo0W6M"
   },
   "outputs": [],
   "source": [
    "train_loader = torch.utils.data.DataLoader(dataset=train_dataset, \n",
    "                                           batch_size=batch_size, \n",
    "                                           shuffle=True)\n",
    "\n",
    "test_loader = torch.utils.data.DataLoader(dataset=test_dataset, \n",
    "                                          batch_size=batch_size, \n",
    "                                          shuffle=False)\n"
   ]
  },
  {
   "cell_type": "markdown",
   "metadata": {
    "id": "ysrRUbs_CuB9"
   },
   "source": [
    "### Question 2) a) Class DeepNeuralNet\n",
    "\n",
    "Implements the DNN with 2 hidden layers and  \n",
    "ReLU hidden activation on both the hidden layers  \n",
    "with hidden neuron size = 512"
   ]
  },
  {
   "cell_type": "code",
   "execution_count": 7,
   "metadata": {
    "id": "6z3xLeir_8JY"
   },
   "outputs": [],
   "source": [
    "class DeepNeuralNet(nn.Module):\n",
    "    def __init__(self, input_size, hidden_size, num_classes):\n",
    "        super(DeepNeuralNet, self).__init__()\n",
    "        self.input_size = input_size\n",
    "        self.l1 = nn.Linear(input_size, hidden_size) \n",
    "        self.relu = nn.ReLU()\n",
    "        self.l2 = nn.Linear(hidden_size, hidden_size)\n",
    "        self.l3 = nn.Linear(hidden_size, num_classes)\n",
    "    \n",
    "    def forward(self, x):\n",
    "        out = self.l1(x)\n",
    "        out = self.relu(out)\n",
    "        out = self.l2(out)\n",
    "        out = self.relu(out)\n",
    "        out = self.l3(out)\n",
    "        return out\n",
    "\n",
    "model = DeepNeuralNet(input_size, hidden_size, num_classes).to(device)"
   ]
  },
  {
   "cell_type": "markdown",
   "metadata": {
    "id": "1wNmkoOfDqgI"
   },
   "source": [
    "#### Using Cross-Entropy Loss and Adam Optimizer"
   ]
  },
  {
   "cell_type": "code",
   "execution_count": 8,
   "metadata": {
    "id": "fzDMJJLnCdFA"
   },
   "outputs": [],
   "source": [
    "criterion = nn.CrossEntropyLoss()\n",
    "optimizer = torch.optim.Adam(model.parameters(), lr=learning_rate)"
   ]
  },
  {
   "cell_type": "markdown",
   "metadata": {
    "id": "wz5S_uYrDy_O"
   },
   "source": [
    "### Function train(model, optimizer, type)\n",
    "\n",
    "Trains the given model using the MNIST dataset in mini-batches and  \n",
    "Plots the Loss curve for each step of SGD."
   ]
  },
  {
   "cell_type": "code",
   "execution_count": 9,
   "metadata": {
    "id": "nWXFSZUmDjhG"
   },
   "outputs": [],
   "source": [
    "def train(model, optimizer, type = \"DNN\"):\n",
    "    n_total_steps = len(train_loader)\n",
    "\n",
    "    loss_plot = []\n",
    "    for epoch in range(num_epochs):\n",
    "        for i, (images, labels) in enumerate(train_loader):  \n",
    "            # origin shape: [100, 1, 28, 28]\n",
    "              # resized: [100, 784]\n",
    "\n",
    "            if type == \"DNN\":\n",
    "                images = images.reshape(-1, 28*28).to(device)\n",
    "            else:\n",
    "                images = images.to(device)\n",
    "            labels = labels.to(device)\n",
    "\n",
    "            # Forward pass\n",
    "            outputs = model(images)\n",
    "            loss = criterion(outputs, labels)\n",
    "\n",
    "            # Backward and optimize\n",
    "            optimizer.zero_grad()\n",
    "            loss.backward()\n",
    "            optimizer.step()\n",
    "\n",
    "            if (i+1) % 100 == 0:\n",
    "                print (f'Epoch [{epoch+1}/{num_epochs}], Step [{i+1}/{n_total_steps}], Loss: {loss.item():.4f}')\n",
    "                loss_plot.append(loss.item())\n",
    "\n",
    "    plt.plot([i for i in range(num_epochs * 6)], loss_plot, marker=\"o\", color='b') \n",
    "    plt.xlabel('Epoch - Mini Batch')\n",
    "    plt.ylabel('Loss')\n",
    "    plt.title('Loss curve')\n",
    "    plt.show()"
   ]
  },
  {
   "cell_type": "markdown",
   "metadata": {
    "id": "iDcZ16rlECBE"
   },
   "source": [
    "### Function predict(model, type)\n",
    "\n",
    "Predicts the output of the data point using the trained model and  \n",
    "calculates the test accuracy of the model."
   ]
  },
  {
   "cell_type": "code",
   "execution_count": 10,
   "metadata": {
    "id": "F3XJ15TvDn7R"
   },
   "outputs": [],
   "source": [
    "def predict(model, type = \"DNN\"):\n",
    "    with torch.no_grad():\n",
    "        n_correct = 0\n",
    "        n_samples = 0\n",
    "        for images, labels in test_loader:\n",
    "            if type == \"DNN\":\n",
    "                images = images.reshape(-1, 28*28).to(device)\n",
    "            else:\n",
    "                images = images.to(device)\n",
    "                \n",
    "            labels = labels.to(device)\n",
    "\n",
    "            outputs = model(images)\n",
    "\n",
    "            # max returns (value ,index)\n",
    "            _, predicted = torch.max(outputs.data, 1)\n",
    "            n_samples += labels.size(0)\n",
    "            n_correct += (predicted == labels).sum().item()\n",
    "\n",
    "        acc = 100.0 * n_correct / n_samples\n",
    "        print(f'#### Test Accuracy of the network on 10000 test images: {acc} % ####')"
   ]
  },
  {
   "cell_type": "markdown",
   "metadata": {
    "id": "w6z8OzUpEZXo"
   },
   "source": [
    "#### Training the DNN with 2 hidden layer"
   ]
  },
  {
   "cell_type": "code",
   "execution_count": 11,
   "metadata": {
    "colab": {
     "base_uri": "https://localhost:8080/",
     "height": 816
    },
    "id": "4B8xuRva77wm",
    "outputId": "3efdb8dc-cdcd-44c6-9ace-39ed62b9e84f"
   },
   "outputs": [
    {
     "name": "stdout",
     "output_type": "stream",
     "text": [
      "Epoch [1/5], Step [100/600], Loss: 0.4363\n",
      "Epoch [1/5], Step [200/600], Loss: 0.2255\n",
      "Epoch [1/5], Step [300/600], Loss: 0.2119\n",
      "Epoch [1/5], Step [400/600], Loss: 0.1008\n",
      "Epoch [1/5], Step [500/600], Loss: 0.1594\n",
      "Epoch [1/5], Step [600/600], Loss: 0.0634\n",
      "Epoch [2/5], Step [100/600], Loss: 0.0304\n",
      "Epoch [2/5], Step [200/600], Loss: 0.0390\n",
      "Epoch [2/5], Step [300/600], Loss: 0.0280\n",
      "Epoch [2/5], Step [400/600], Loss: 0.0881\n",
      "Epoch [2/5], Step [500/600], Loss: 0.1242\n",
      "Epoch [2/5], Step [600/600], Loss: 0.0910\n",
      "Epoch [3/5], Step [100/600], Loss: 0.1062\n",
      "Epoch [3/5], Step [200/600], Loss: 0.0406\n",
      "Epoch [3/5], Step [300/600], Loss: 0.0866\n",
      "Epoch [3/5], Step [400/600], Loss: 0.0962\n",
      "Epoch [3/5], Step [500/600], Loss: 0.0684\n",
      "Epoch [3/5], Step [600/600], Loss: 0.0783\n",
      "Epoch [4/5], Step [100/600], Loss: 0.0445\n",
      "Epoch [4/5], Step [200/600], Loss: 0.0743\n",
      "Epoch [4/5], Step [300/600], Loss: 0.0177\n",
      "Epoch [4/5], Step [400/600], Loss: 0.0426\n",
      "Epoch [4/5], Step [500/600], Loss: 0.0144\n",
      "Epoch [4/5], Step [600/600], Loss: 0.0666\n",
      "Epoch [5/5], Step [100/600], Loss: 0.0802\n",
      "Epoch [5/5], Step [200/600], Loss: 0.0042\n",
      "Epoch [5/5], Step [300/600], Loss: 0.0869\n",
      "Epoch [5/5], Step [400/600], Loss: 0.0289\n",
      "Epoch [5/5], Step [500/600], Loss: 0.0634\n",
      "Epoch [5/5], Step [600/600], Loss: 0.0090\n"
     ]
    },
    {
     "data": {
      "image/png": "[encoded data removed]",
      "text/plain": [
       "<Figure size 432x288 with 1 Axes>"
      ]
     },
     "metadata": {
      "needs_background": "light"
     },
     "output_type": "display_data"
    }
   ],
   "source": [
    "train(model, optimizer)"
   ]
  },
  {
   "cell_type": "markdown",
   "metadata": {
    "id": "DBnJ98YhEdkS"
   },
   "source": [
    "#### Calculating the Test Accuracy of the trained DNN with 2 hidden layer \n",
    "\n",
    "Test Accuracy = 97.89%"
   ]
  },
  {
   "cell_type": "code",
   "execution_count": 12,
   "metadata": {
    "colab": {
     "base_uri": "https://localhost:8080/"
    },
    "id": "ryEINNQo79-J",
    "outputId": "ce9e6db7-3aa6-4ffd-ad2f-25da98626dde"
   },
   "outputs": [
    {
     "name": "stdout",
     "output_type": "stream",
     "text": [
      "#### Test Accuracy of the network on 10000 test images: 97.89 % ####\n"
     ]
    }
   ],
   "source": [
    "predict(model)"
   ]
  },
  {
   "cell_type": "markdown",
   "metadata": {
    "id": "-u95r9UzE5-E"
   },
   "source": [
    "### Class DeepNeuralNet_Three\n",
    "\n",
    "Implements the DNN with 3 hidden layers and  \n",
    "ReLU hidden activation on all the hidden layers  \n",
    "with hidden neuron size = 512"
   ]
  },
  {
   "cell_type": "code",
   "execution_count": 13,
   "metadata": {
    "id": "Nbn0cTjijP8x"
   },
   "outputs": [],
   "source": [
    "class DeepNeuralNet_Three(nn.Module):\n",
    "    def __init__(self, input_size, hidden_size, num_classes):\n",
    "        super(DeepNeuralNet_Three, self).__init__()\n",
    "        self.input_size = input_size\n",
    "        self.l1 = nn.Linear(input_size, hidden_size) \n",
    "        self.relu = nn.ReLU()\n",
    "        self.l2 = nn.Linear(hidden_size, hidden_size)\n",
    "        self.l3 = nn.Linear(hidden_size, hidden_size)\n",
    "        self.l4 = nn.Linear(hidden_size, num_classes)\n",
    "    \n",
    "    def forward(self, x):\n",
    "        out = self.l1(x)\n",
    "        out = self.relu(out)\n",
    "        out = self.l2(out)\n",
    "        out = self.relu(out)\n",
    "        out = self.l3(out)\n",
    "        out = self.relu(out)\n",
    "        out = self.l4(out)\n",
    "        return out\n",
    "\n",
    "model = DeepNeuralNet_Three(input_size, hidden_size, num_classes).to(device)"
   ]
  },
  {
   "cell_type": "code",
   "execution_count": 14,
   "metadata": {
    "id": "QrPqgq0ujVi6"
   },
   "outputs": [],
   "source": [
    "optimizer = torch.optim.Adam(model.parameters(), lr=learning_rate)"
   ]
  },
  {
   "cell_type": "markdown",
   "metadata": {
    "id": "6TMkX9shFGwl"
   },
   "source": [
    "#### Training the DNN with 3 hidden layer"
   ]
  },
  {
   "cell_type": "code",
   "execution_count": 15,
   "metadata": {
    "colab": {
     "base_uri": "https://localhost:8080/",
     "height": 816
    },
    "id": "EO47rhqYjZbs",
    "outputId": "a61baf20-3034-422d-e9a7-63ef27d49ebf"
   },
   "outputs": [
    {
     "name": "stdout",
     "output_type": "stream",
     "text": [
      "Epoch [1/5], Step [100/600], Loss: 0.4178\n",
      "Epoch [1/5], Step [200/600], Loss: 0.1536\n",
      "Epoch [1/5], Step [300/600], Loss: 0.0940\n",
      "Epoch [1/5], Step [400/600], Loss: 0.1802\n",
      "Epoch [1/5], Step [500/600], Loss: 0.1378\n",
      "Epoch [1/5], Step [600/600], Loss: 0.1143\n",
      "Epoch [2/5], Step [100/600], Loss: 0.0962\n",
      "Epoch [2/5], Step [200/600], Loss: 0.0283\n",
      "Epoch [2/5], Step [300/600], Loss: 0.0458\n",
      "Epoch [2/5], Step [400/600], Loss: 0.1278\n",
      "Epoch [2/5], Step [500/600], Loss: 0.2246\n",
      "Epoch [2/5], Step [600/600], Loss: 0.0209\n",
      "Epoch [3/5], Step [100/600], Loss: 0.1053\n",
      "Epoch [3/5], Step [200/600], Loss: 0.0206\n",
      "Epoch [3/5], Step [300/600], Loss: 0.1545\n",
      "Epoch [3/5], Step [400/600], Loss: 0.0325\n",
      "Epoch [3/5], Step [500/600], Loss: 0.0418\n",
      "Epoch [3/5], Step [600/600], Loss: 0.0721\n",
      "Epoch [4/5], Step [100/600], Loss: 0.0014\n",
      "Epoch [4/5], Step [200/600], Loss: 0.0858\n",
      "Epoch [4/5], Step [300/600], Loss: 0.0720\n",
      "Epoch [4/5], Step [400/600], Loss: 0.0277\n",
      "Epoch [4/5], Step [500/600], Loss: 0.1126\n",
      "Epoch [4/5], Step [600/600], Loss: 0.1445\n",
      "Epoch [5/5], Step [100/600], Loss: 0.0535\n",
      "Epoch [5/5], Step [200/600], Loss: 0.1593\n",
      "Epoch [5/5], Step [300/600], Loss: 0.0129\n",
      "Epoch [5/5], Step [400/600], Loss: 0.0810\n",
      "Epoch [5/5], Step [500/600], Loss: 0.0241\n",
      "Epoch [5/5], Step [600/600], Loss: 0.0071\n"
     ]
    },
    {
     "data": {
      "image/png": "[encoded data removed]",
      "text/plain": [
       "<Figure size 432x288 with 1 Axes>"
      ]
     },
     "metadata": {
      "needs_background": "light"
     },
     "output_type": "display_data"
    }
   ],
   "source": [
    "train(model, optimizer)"
   ]
  },
  {
   "cell_type": "markdown",
   "metadata": {
    "id": "CNeizNq6FQxq"
   },
   "source": [
    "#### Calculating the Test Accuracy of the trained DNN with 3 hidden layer \n",
    "\n",
    "Test Accuracy = 97.84%"
   ]
  },
  {
   "cell_type": "code",
   "execution_count": 16,
   "metadata": {
    "colab": {
     "base_uri": "https://localhost:8080/"
    },
    "id": "xXNPELC5kZX4",
    "outputId": "4a811ce6-0c2d-44fb-9fd6-b3e8aab9e63a"
   },
   "outputs": [
    {
     "name": "stdout",
     "output_type": "stream",
     "text": [
      "#### Test Accuracy of the network on 10000 test images: 97.84 % ####\n"
     ]
    }
   ],
   "source": [
    "predict(model)"
   ]
  },
  {
   "cell_type": "markdown",
   "metadata": {
    "id": "-4UjKRedFkoV"
   },
   "source": [
    "### Question 2) b) Class CNN\n",
    "\n",
    "Implements CNN with single 2D-convolutional layer  \n",
    "with kernel size = 3 and 128 filters followed by  \n",
    "two Dense layers of 256 neurons"
   ]
  },
  {
   "cell_type": "code",
   "execution_count": 17,
   "metadata": {
    "id": "toDWJlWZDx1J"
   },
   "outputs": [],
   "source": [
    "class CNN(nn.Module):\n",
    "    def __init__(self, filter, kernel_size, hidden_size):\n",
    "        super(CNN, self).__init__()\n",
    "        self.conv1 = nn.Sequential(         \n",
    "            nn.Conv2d(\n",
    "                in_channels = 1,              \n",
    "                out_channels = filter,            \n",
    "                kernel_size = kernel_size,              \n",
    "                stride=1,                  \n",
    "            ),                              \n",
    "            nn.ReLU(),                    \n",
    "        )\n",
    "        self.l2 = nn.Linear(filter * 26 * 26, hidden_size)\n",
    "        self.relu = nn.ReLU()\n",
    "        self.l3 = nn.Linear(hidden_size, 10)\n",
    "\n",
    "\n",
    "    def forward(self, x):\n",
    "        x = self.conv1(x)\n",
    "        # flatten the output of conv1 to (batch_size, filter * 26 * 26)\n",
    "        x = x.view(x.size(0), -1)  \n",
    "        x = self.l2(x)\n",
    "        x = self.relu(x)\n",
    "        out = self.l3(x)\n",
    "        return out \n",
    "\n",
    "model = CNN(128, 3, 256).to(device)"
   ]
  },
  {
   "cell_type": "markdown",
   "metadata": {
    "id": "48KBzfAVGB_K"
   },
   "source": [
    "#### Using Cross-Entropy Loss and Adam Optimizer"
   ]
  },
  {
   "cell_type": "code",
   "execution_count": 18,
   "metadata": {
    "id": "ohyGj1qSllcz"
   },
   "outputs": [],
   "source": [
    "criterion = nn.CrossEntropyLoss()\n",
    "optimizer = torch.optim.Adam(model.parameters(), lr=learning_rate)"
   ]
  },
  {
   "cell_type": "markdown",
   "metadata": {
    "id": "ccs0FBGsGGQT"
   },
   "source": [
    "#### Training the CNN"
   ]
  },
  {
   "cell_type": "code",
   "execution_count": 19,
   "metadata": {
    "colab": {
     "base_uri": "https://localhost:8080/",
     "height": 816
    },
    "id": "bewVvx-2lmWJ",
    "outputId": "d5d1fec4-9190-4958-cec7-45799a97f074"
   },
   "outputs": [
    {
     "name": "stdout",
     "output_type": "stream",
     "text": [
      "Epoch [1/5], Step [100/600], Loss: 0.2368\n",
      "Epoch [1/5], Step [200/600], Loss: 0.2767\n",
      "Epoch [1/5], Step [300/600], Loss: 0.0940\n",
      "Epoch [1/5], Step [400/600], Loss: 0.1550\n",
      "Epoch [1/5], Step [500/600], Loss: 0.0822\n",
      "Epoch [1/5], Step [600/600], Loss: 0.0529\n",
      "Epoch [2/5], Step [100/600], Loss: 0.0424\n",
      "Epoch [2/5], Step [200/600], Loss: 0.0466\n",
      "Epoch [2/5], Step [300/600], Loss: 0.1000\n",
      "Epoch [2/5], Step [400/600], Loss: 0.0680\n",
      "Epoch [2/5], Step [500/600], Loss: 0.1171\n",
      "Epoch [2/5], Step [600/600], Loss: 0.0427\n",
      "Epoch [3/5], Step [100/600], Loss: 0.0361\n",
      "Epoch [3/5], Step [200/600], Loss: 0.0598\n",
      "Epoch [3/5], Step [300/600], Loss: 0.0245\n",
      "Epoch [3/5], Step [400/600], Loss: 0.0079\n",
      "Epoch [3/5], Step [500/600], Loss: 0.0476\n",
      "Epoch [3/5], Step [600/600], Loss: 0.0236\n",
      "Epoch [4/5], Step [100/600], Loss: 0.0181\n",
      "Epoch [4/5], Step [200/600], Loss: 0.0035\n",
      "Epoch [4/5], Step [300/600], Loss: 0.0108\n",
      "Epoch [4/5], Step [400/600], Loss: 0.0155\n",
      "Epoch [4/5], Step [500/600], Loss: 0.0344\n",
      "Epoch [4/5], Step [600/600], Loss: 0.0590\n",
      "Epoch [5/5], Step [100/600], Loss: 0.0179\n",
      "Epoch [5/5], Step [200/600], Loss: 0.0032\n",
      "Epoch [5/5], Step [300/600], Loss: 0.0062\n",
      "Epoch [5/5], Step [400/600], Loss: 0.0055\n",
      "Epoch [5/5], Step [500/600], Loss: 0.0041\n",
      "Epoch [5/5], Step [600/600], Loss: 0.0096\n"
     ]
    },
    {
     "data": {
      "image/png": "[encoded data removed]",
      "text/plain": [
       "<Figure size 432x288 with 1 Axes>"
      ]
     },
     "metadata": {
      "needs_background": "light"
     },
     "output_type": "display_data"
    }
   ],
   "source": [
    "train(model, optimizer, \"CNN\")"
   ]
  },
  {
   "cell_type": "markdown",
   "metadata": {
    "id": "Aq-neiVmGLFM"
   },
   "source": [
    "#### Calculating the test accuracy of CNN\n",
    "\n",
    "Test accuracy = 98.25%"
   ]
  },
  {
   "cell_type": "code",
   "execution_count": 20,
   "metadata": {
    "colab": {
     "base_uri": "https://localhost:8080/"
    },
    "id": "ZeSMkdkDnWj0",
    "outputId": "67150264-9193-4910-98d9-a645d42e7ca2"
   },
   "outputs": [
    {
     "name": "stdout",
     "output_type": "stream",
     "text": [
      "#### Test Accuracy of the network on 10000 test images: 98.25 % ####\n"
     ]
    }
   ],
   "source": [
    "predict(model, type = \"CNN\")"
   ]
  },
  {
   "cell_type": "markdown",
   "metadata": {
    "id": "BAp_ibkNGRJY"
   },
   "source": [
    "## Comparing DNN and CNN\n",
    "\n",
    "CNN got a better test accuracy of 98.25% than both the DNN with 2 and 3 hidden layers with test accuracy of 97.89% and 97.84% respectively."
   ]
  },
  {
   "cell_type": "markdown",
   "metadata": {
    "id": "I2b5ZEN5GheL"
   },
   "source": [
    "### Question 2) c) Analysis of CNN on Different filter size and Hidden layer dimensions\n",
    "\n",
    "For Filter sizes = [32, 64, 128, 256] and  \n",
    "For Hidden Layer dimension = [128, 256, 512]"
   ]
  },
  {
   "cell_type": "code",
   "execution_count": 21,
   "metadata": {
    "colab": {
     "base_uri": "https://localhost:8080/",
     "height": 1000
    },
    "id": "KIB0Oahutkax",
    "outputId": "7ea253fa-d757-4c67-f2d4-5a2573551766"
   },
   "outputs": [
    {
     "name": "stdout",
     "output_type": "stream",
     "text": [
      "\n",
      "\n",
      "########### CNN with Filters =  32  and Hidden layer dimension = 128 ###########\n",
      "Epoch [1/5], Step [100/600], Loss: 0.4227\n",
      "Epoch [1/5], Step [200/600], Loss: 0.1033\n",
      "Epoch [1/5], Step [300/600], Loss: 0.0883\n",
      "Epoch [1/5], Step [400/600], Loss: 0.3845\n",
      "Epoch [1/5], Step [500/600], Loss: 0.1905\n",
      "Epoch [1/5], Step [600/600], Loss: 0.1480\n",
      "Epoch [2/5], Step [100/600], Loss: 0.0507\n",
      "Epoch [2/5], Step [200/600], Loss: 0.1223\n",
      "Epoch [2/5], Step [300/600], Loss: 0.0844\n",
      "Epoch [2/5], Step [400/600], Loss: 0.0430\n",
      "Epoch [2/5], Step [500/600], Loss: 0.0376\n",
      "Epoch [2/5], Step [600/600], Loss: 0.0612\n",
      "Epoch [3/5], Step [100/600], Loss: 0.0078\n",
      "Epoch [3/5], Step [200/600], Loss: 0.0115\n",
      "Epoch [3/5], Step [300/600], Loss: 0.0114\n",
      "Epoch [3/5], Step [400/600], Loss: 0.0699\n",
      "Epoch [3/5], Step [500/600], Loss: 0.0305\n",
      "Epoch [3/5], Step [600/600], Loss: 0.0193\n",
      "Epoch [4/5], Step [100/600], Loss: 0.0111\n",
      "Epoch [4/5], Step [200/600], Loss: 0.0339\n",
      "Epoch [4/5], Step [300/600], Loss: 0.0154\n",
      "Epoch [4/5], Step [400/600], Loss: 0.0206\n",
      "Epoch [4/5], Step [500/600], Loss: 0.0188\n",
      "Epoch [4/5], Step [600/600], Loss: 0.0096\n",
      "Epoch [5/5], Step [100/600], Loss: 0.0089\n",
      "Epoch [5/5], Step [200/600], Loss: 0.0180\n",
      "Epoch [5/5], Step [300/600], Loss: 0.0181\n",
      "Epoch [5/5], Step [400/600], Loss: 0.0218\n",
      "Epoch [5/5], Step [500/600], Loss: 0.0057\n",
      "Epoch [5/5], Step [600/600], Loss: 0.0186\n"
     ]
    },
    {
     "data": {
      "image/png": "[encoded data removed]",
      "text/plain": [
       "<Figure size 432x288 with 1 Axes>"
      ]
     },
     "metadata": {
      "needs_background": "light"
     },
     "output_type": "display_data"
    },
    {
     "name": "stdout",
     "output_type": "stream",
     "text": [
      "#### Test Accuracy of the network on 10000 test images: 98.29 % ####\n",
      "\n",
      "\n",
      "########### CNN with Filters =  64  and Hidden layer dimension = 128 ###########\n",
      "Epoch [1/5], Step [100/600], Loss: 0.1981\n",
      "Epoch [1/5], Step [200/600], Loss: 0.1792\n",
      "Epoch [1/5], Step [300/600], Loss: 0.2707\n",
      "Epoch [1/5], Step [400/600], Loss: 0.1944\n",
      "Epoch [1/5], Step [500/600], Loss: 0.1051\n",
      "Epoch [1/5], Step [600/600], Loss: 0.1675\n",
      "Epoch [2/5], Step [100/600], Loss: 0.1385\n",
      "Epoch [2/5], Step [200/600], Loss: 0.0372\n",
      "Epoch [2/5], Step [300/600], Loss: 0.1363\n",
      "Epoch [2/5], Step [400/600], Loss: 0.1438\n",
      "Epoch [2/5], Step [500/600], Loss: 0.1520\n",
      "Epoch [2/5], Step [600/600], Loss: 0.0439\n",
      "Epoch [3/5], Step [100/600], Loss: 0.1012\n",
      "Epoch [3/5], Step [200/600], Loss: 0.0243\n",
      "Epoch [3/5], Step [300/600], Loss: 0.0556\n",
      "Epoch [3/5], Step [400/600], Loss: 0.0636\n",
      "Epoch [3/5], Step [500/600], Loss: 0.0264\n",
      "Epoch [3/5], Step [600/600], Loss: 0.0689\n",
      "Epoch [4/5], Step [100/600], Loss: 0.0561\n",
      "Epoch [4/5], Step [200/600], Loss: 0.0216\n",
      "Epoch [4/5], Step [300/600], Loss: 0.0193\n",
      "Epoch [4/5], Step [400/600], Loss: 0.0708\n",
      "Epoch [4/5], Step [500/600], Loss: 0.0672\n",
      "Epoch [4/5], Step [600/600], Loss: 0.0781\n",
      "Epoch [5/5], Step [100/600], Loss: 0.0491\n",
      "Epoch [5/5], Step [200/600], Loss: 0.0177\n",
      "Epoch [5/5], Step [300/600], Loss: 0.0081\n",
      "Epoch [5/5], Step [400/600], Loss: 0.0087\n",
      "Epoch [5/5], Step [500/600], Loss: 0.0087\n",
      "Epoch [5/5], Step [600/600], Loss: 0.0145\n"
     ]
    },
    {
     "data": {
      "image/png": "[encoded data removed]",
      "text/plain": [
       "<Figure size 432x288 with 1 Axes>"
      ]
     },
     "metadata": {
      "needs_background": "light"
     },
     "output_type": "display_data"
    },
    {
     "name": "stdout",
     "output_type": "stream",
     "text": [
      "#### Test Accuracy of the network on 10000 test images: 98.15 % ####\n",
      "\n",
      "\n",
      "########### CNN with Filters =  128  and Hidden layer dimension = 128 ###########\n",
      "Epoch [1/5], Step [100/600], Loss: 0.4118\n",
      "Epoch [1/5], Step [200/600], Loss: 0.2263\n",
      "Epoch [1/5], Step [300/600], Loss: 0.1983\n",
      "Epoch [1/5], Step [400/600], Loss: 0.1977\n",
      "Epoch [1/5], Step [500/600], Loss: 0.1207\n",
      "Epoch [1/5], Step [600/600], Loss: 0.0662\n",
      "Epoch [2/5], Step [100/600], Loss: 0.0809\n",
      "Epoch [2/5], Step [200/600], Loss: 0.1204\n",
      "Epoch [2/5], Step [300/600], Loss: 0.0860\n",
      "Epoch [2/5], Step [400/600], Loss: 0.0477\n",
      "Epoch [2/5], Step [500/600], Loss: 0.0253\n",
      "Epoch [2/5], Step [600/600], Loss: 0.0593\n",
      "Epoch [3/5], Step [100/600], Loss: 0.0765\n",
      "Epoch [3/5], Step [200/600], Loss: 0.0933\n",
      "Epoch [3/5], Step [300/600], Loss: 0.0252\n",
      "Epoch [3/5], Step [400/600], Loss: 0.0573\n",
      "Epoch [3/5], Step [500/600], Loss: 0.0146\n",
      "Epoch [3/5], Step [600/600], Loss: 0.0193\n",
      "Epoch [4/5], Step [100/600], Loss: 0.0584\n",
      "Epoch [4/5], Step [200/600], Loss: 0.0175\n",
      "Epoch [4/5], Step [300/600], Loss: 0.0188\n",
      "Epoch [4/5], Step [400/600], Loss: 0.0202\n",
      "Epoch [4/5], Step [500/600], Loss: 0.1439\n",
      "Epoch [4/5], Step [600/600], Loss: 0.0539\n",
      "Epoch [5/5], Step [100/600], Loss: 0.0193\n",
      "Epoch [5/5], Step [200/600], Loss: 0.0074\n",
      "Epoch [5/5], Step [300/600], Loss: 0.0343\n",
      "Epoch [5/5], Step [400/600], Loss: 0.0341\n",
      "Epoch [5/5], Step [500/600], Loss: 0.0368\n",
      "Epoch [5/5], Step [600/600], Loss: 0.0567\n"
     ]
    },
    {
     "data": {
      "image/png": "[encoded data removed]",
      "text/plain": [
       "<Figure size 432x288 with 1 Axes>"
      ]
     },
     "metadata": {
      "needs_background": "light"
     },
     "output_type": "display_data"
    },
    {
     "name": "stdout",
     "output_type": "stream",
     "text": [
      "#### Test Accuracy of the network on 10000 test images: 98.08 % ####\n",
      "\n",
      "\n",
      "########### CNN with Filters =  256  and Hidden layer dimension = 128 ###########\n",
      "Epoch [1/5], Step [100/600], Loss: 0.2774\n",
      "Epoch [1/5], Step [200/600], Loss: 0.1920\n",
      "Epoch [1/5], Step [300/600], Loss: 0.2147\n",
      "Epoch [1/5], Step [400/600], Loss: 0.0438\n",
      "Epoch [1/5], Step [500/600], Loss: 0.2096\n",
      "Epoch [1/5], Step [600/600], Loss: 0.0244\n",
      "Epoch [2/5], Step [100/600], Loss: 0.0260\n",
      "Epoch [2/5], Step [200/600], Loss: 0.0400\n",
      "Epoch [2/5], Step [300/600], Loss: 0.0322\n",
      "Epoch [2/5], Step [400/600], Loss: 0.0587\n",
      "Epoch [2/5], Step [500/600], Loss: 0.0587\n",
      "Epoch [2/5], Step [600/600], Loss: 0.0362\n",
      "Epoch [3/5], Step [100/600], Loss: 0.0562\n",
      "Epoch [3/5], Step [200/600], Loss: 0.0398\n",
      "Epoch [3/5], Step [300/600], Loss: 0.0137\n",
      "Epoch [3/5], Step [400/600], Loss: 0.1128\n",
      "Epoch [3/5], Step [500/600], Loss: 0.0406\n",
      "Epoch [3/5], Step [600/600], Loss: 0.0431\n",
      "Epoch [4/5], Step [100/600], Loss: 0.0217\n",
      "Epoch [4/5], Step [200/600], Loss: 0.0188\n",
      "Epoch [4/5], Step [300/600], Loss: 0.0659\n",
      "Epoch [4/5], Step [400/600], Loss: 0.0201\n",
      "Epoch [4/5], Step [500/600], Loss: 0.0041\n",
      "Epoch [4/5], Step [600/600], Loss: 0.1107\n",
      "Epoch [5/5], Step [100/600], Loss: 0.0025\n",
      "Epoch [5/5], Step [200/600], Loss: 0.0193\n",
      "Epoch [5/5], Step [300/600], Loss: 0.0394\n",
      "Epoch [5/5], Step [400/600], Loss: 0.0056\n",
      "Epoch [5/5], Step [500/600], Loss: 0.0753\n",
      "Epoch [5/5], Step [600/600], Loss: 0.0625\n"
     ]
    },
    {
     "data": {
      "image/png": "[encoded data removed]",
      "text/plain": [
       "<Figure size 432x288 with 1 Axes>"
      ]
     },
     "metadata": {
      "needs_background": "light"
     },
     "output_type": "display_data"
    },
    {
     "name": "stdout",
     "output_type": "stream",
     "text": [
      "#### Test Accuracy of the network on 10000 test images: 97.68 % ####\n"
     ]
    }
   ],
   "source": [
    "filter = [32, 64, 128, 256]\n",
    "\n",
    "for j in filter:\n",
    "    print(\"\\n\\n########### CNN with Filters = \", j, \" and Hidden layer dimension = 128 ###########\")\n",
    "    model = CNN(j, 3, 128).to(device)\n",
    "    optimizer = torch.optim.Adam(model.parameters(), lr=learning_rate)\n",
    "    train(model, optimizer, \"CNN\")\n",
    "    predict(model, type = \"CNN\")"
   ]
  },
  {
   "cell_type": "code",
   "execution_count": 22,
   "metadata": {
    "colab": {
     "base_uri": "https://localhost:8080/",
     "height": 1000
    },
    "id": "5gZgU6ol60kB",
    "outputId": "1a5e62a2-65a3-4bf4-8c6b-ce34b1fb699a"
   },
   "outputs": [
    {
     "name": "stdout",
     "output_type": "stream",
     "text": [
      "\n",
      "\n",
      "########### CNN with Filters =  32  and Hidden layer dimension = 256 ###########\n",
      "Epoch [1/5], Step [100/600], Loss: 0.2377\n",
      "Epoch [1/5], Step [200/600], Loss: 0.3210\n",
      "Epoch [1/5], Step [300/600], Loss: 0.1523\n",
      "Epoch [1/5], Step [400/600], Loss: 0.0878\n",
      "Epoch [1/5], Step [500/600], Loss: 0.1520\n",
      "Epoch [1/5], Step [600/600], Loss: 0.1249\n",
      "Epoch [2/5], Step [100/600], Loss: 0.0530\n",
      "Epoch [2/5], Step [200/600], Loss: 0.0568\n",
      "Epoch [2/5], Step [300/600], Loss: 0.1605\n",
      "Epoch [2/5], Step [400/600], Loss: 0.0707\n",
      "Epoch [2/5], Step [500/600], Loss: 0.0518\n",
      "Epoch [2/5], Step [600/600], Loss: 0.0603\n",
      "Epoch [3/5], Step [100/600], Loss: 0.0398\n",
      "Epoch [3/5], Step [200/600], Loss: 0.0163\n",
      "Epoch [3/5], Step [300/600], Loss: 0.0161\n",
      "Epoch [3/5], Step [400/600], Loss: 0.0204\n",
      "Epoch [3/5], Step [500/600], Loss: 0.0832\n",
      "Epoch [3/5], Step [600/600], Loss: 0.0342\n",
      "Epoch [4/5], Step [100/600], Loss: 0.0193\n",
      "Epoch [4/5], Step [200/600], Loss: 0.0371\n",
      "Epoch [4/5], Step [300/600], Loss: 0.0122\n",
      "Epoch [4/5], Step [400/600], Loss: 0.0136\n",
      "Epoch [4/5], Step [500/600], Loss: 0.0056\n",
      "Epoch [4/5], Step [600/600], Loss: 0.0138\n",
      "Epoch [5/5], Step [100/600], Loss: 0.0167\n",
      "Epoch [5/5], Step [200/600], Loss: 0.0253\n",
      "Epoch [5/5], Step [300/600], Loss: 0.0074\n",
      "Epoch [5/5], Step [400/600], Loss: 0.0084\n",
      "Epoch [5/5], Step [500/600], Loss: 0.0476\n",
      "Epoch [5/5], Step [600/600], Loss: 0.0221\n"
     ]
    },
    {
     "data": {
      "image/png": "[encoded data removed]",
      "text/plain": [
       "<Figure size 432x288 with 1 Axes>"
      ]
     },
     "metadata": {
      "needs_background": "light"
     },
     "output_type": "display_data"
    },
    {
     "name": "stdout",
     "output_type": "stream",
     "text": [
      "#### Test Accuracy of the network on 10000 test images: 98.55 % ####\n",
      "\n",
      "\n",
      "########### CNN with Filters =  64  and Hidden layer dimension = 256 ###########\n",
      "Epoch [1/5], Step [100/600], Loss: 0.3570\n",
      "Epoch [1/5], Step [200/600], Loss: 0.0715\n",
      "Epoch [1/5], Step [300/600], Loss: 0.1434\n",
      "Epoch [1/5], Step [400/600], Loss: 0.0890\n",
      "Epoch [1/5], Step [500/600], Loss: 0.1200\n",
      "Epoch [1/5], Step [600/600], Loss: 0.1063\n",
      "Epoch [2/5], Step [100/600], Loss: 0.0634\n",
      "Epoch [2/5], Step [200/600], Loss: 0.0317\n",
      "Epoch [2/5], Step [300/600], Loss: 0.0433\n",
      "Epoch [2/5], Step [400/600], Loss: 0.0637\n",
      "Epoch [2/5], Step [500/600], Loss: 0.0299\n",
      "Epoch [2/5], Step [600/600], Loss: 0.0201\n",
      "Epoch [3/5], Step [100/600], Loss: 0.0234\n",
      "Epoch [3/5], Step [200/600], Loss: 0.0070\n",
      "Epoch [3/5], Step [300/600], Loss: 0.0492\n",
      "Epoch [3/5], Step [400/600], Loss: 0.0315\n",
      "Epoch [3/5], Step [500/600], Loss: 0.0333\n",
      "Epoch [3/5], Step [600/600], Loss: 0.0038\n",
      "Epoch [4/5], Step [100/600], Loss: 0.0124\n",
      "Epoch [4/5], Step [200/600], Loss: 0.0239\n",
      "Epoch [4/5], Step [300/600], Loss: 0.0254\n",
      "Epoch [4/5], Step [400/600], Loss: 0.0416\n",
      "Epoch [4/5], Step [500/600], Loss: 0.0023\n",
      "Epoch [4/5], Step [600/600], Loss: 0.0248\n",
      "Epoch [5/5], Step [100/600], Loss: 0.0204\n",
      "Epoch [5/5], Step [200/600], Loss: 0.0039\n",
      "Epoch [5/5], Step [300/600], Loss: 0.0131\n",
      "Epoch [5/5], Step [400/600], Loss: 0.0098\n",
      "Epoch [5/5], Step [500/600], Loss: 0.0308\n",
      "Epoch [5/5], Step [600/600], Loss: 0.0112\n"
     ]
    },
    {
     "data": {
      "image/png": "[encoded data removed]",
      "text/plain": [
       "<Figure size 432x288 with 1 Axes>"
      ]
     },
     "metadata": {
      "needs_background": "light"
     },
     "output_type": "display_data"
    },
    {
     "name": "stdout",
     "output_type": "stream",
     "text": [
      "#### Test Accuracy of the network on 10000 test images: 98.36 % ####\n",
      "\n",
      "\n",
      "########### CNN with Filters =  128  and Hidden layer dimension = 256 ###########\n",
      "Epoch [1/5], Step [100/600], Loss: 0.2840\n",
      "Epoch [1/5], Step [200/600], Loss: 0.1665\n",
      "Epoch [1/5], Step [300/600], Loss: 0.1532\n",
      "Epoch [1/5], Step [400/600], Loss: 0.0424\n",
      "Epoch [1/5], Step [500/600], Loss: 0.0532\n",
      "Epoch [1/5], Step [600/600], Loss: 0.0879\n",
      "Epoch [2/5], Step [100/600], Loss: 0.1035\n",
      "Epoch [2/5], Step [200/600], Loss: 0.1803\n",
      "Epoch [2/5], Step [300/600], Loss: 0.0280\n",
      "Epoch [2/5], Step [400/600], Loss: 0.1494\n",
      "Epoch [2/5], Step [500/600], Loss: 0.1776\n",
      "Epoch [2/5], Step [600/600], Loss: 0.0280\n",
      "Epoch [3/5], Step [100/600], Loss: 0.0173\n",
      "Epoch [3/5], Step [200/600], Loss: 0.0391\n",
      "Epoch [3/5], Step [300/600], Loss: 0.0619\n",
      "Epoch [3/5], Step [400/600], Loss: 0.0254\n",
      "Epoch [3/5], Step [500/600], Loss: 0.0576\n",
      "Epoch [3/5], Step [600/600], Loss: 0.0156\n",
      "Epoch [4/5], Step [100/600], Loss: 0.0073\n",
      "Epoch [4/5], Step [200/600], Loss: 0.0247\n",
      "Epoch [4/5], Step [300/600], Loss: 0.0155\n",
      "Epoch [4/5], Step [400/600], Loss: 0.0214\n",
      "Epoch [4/5], Step [500/600], Loss: 0.0593\n",
      "Epoch [4/5], Step [600/600], Loss: 0.0137\n",
      "Epoch [5/5], Step [100/600], Loss: 0.0162\n",
      "Epoch [5/5], Step [200/600], Loss: 0.0368\n",
      "Epoch [5/5], Step [300/600], Loss: 0.0155\n",
      "Epoch [5/5], Step [400/600], Loss: 0.0027\n",
      "Epoch [5/5], Step [500/600], Loss: 0.0187\n",
      "Epoch [5/5], Step [600/600], Loss: 0.0130\n"
     ]
    },
    {
     "data": {
      "image/png": "[encoded data removed]",
      "text/plain": [
       "<Figure size 432x288 with 1 Axes>"
      ]
     },
     "metadata": {
      "needs_background": "light"
     },
     "output_type": "display_data"
    },
    {
     "name": "stdout",
     "output_type": "stream",
     "text": [
      "#### Test Accuracy of the network on 10000 test images: 98.53 % ####\n",
      "\n",
      "\n",
      "########### CNN with Filters =  256  and Hidden layer dimension = 256 ###########\n",
      "Epoch [1/5], Step [100/600], Loss: 0.3685\n",
      "Epoch [1/5], Step [200/600], Loss: 0.2221\n",
      "Epoch [1/5], Step [300/600], Loss: 0.1338\n",
      "Epoch [1/5], Step [400/600], Loss: 0.1702\n",
      "Epoch [1/5], Step [500/600], Loss: 0.1092\n",
      "Epoch [1/5], Step [600/600], Loss: 0.1561\n",
      "Epoch [2/5], Step [100/600], Loss: 0.0492\n",
      "Epoch [2/5], Step [200/600], Loss: 0.0232\n",
      "Epoch [2/5], Step [300/600], Loss: 0.1327\n",
      "Epoch [2/5], Step [400/600], Loss: 0.1150\n",
      "Epoch [2/5], Step [500/600], Loss: 0.0110\n",
      "Epoch [2/5], Step [600/600], Loss: 0.0422\n",
      "Epoch [3/5], Step [100/600], Loss: 0.0614\n",
      "Epoch [3/5], Step [200/600], Loss: 0.0554\n",
      "Epoch [3/5], Step [300/600], Loss: 0.0554\n",
      "Epoch [3/5], Step [400/600], Loss: 0.0339\n",
      "Epoch [3/5], Step [500/600], Loss: 0.0303\n",
      "Epoch [3/5], Step [600/600], Loss: 0.0219\n",
      "Epoch [4/5], Step [100/600], Loss: 0.0412\n",
      "Epoch [4/5], Step [200/600], Loss: 0.0110\n",
      "Epoch [4/5], Step [300/600], Loss: 0.0158\n",
      "Epoch [4/5], Step [400/600], Loss: 0.0400\n",
      "Epoch [4/5], Step [500/600], Loss: 0.0173\n",
      "Epoch [4/5], Step [600/600], Loss: 0.0098\n",
      "Epoch [5/5], Step [100/600], Loss: 0.0018\n",
      "Epoch [5/5], Step [200/600], Loss: 0.0052\n",
      "Epoch [5/5], Step [300/600], Loss: 0.0447\n",
      "Epoch [5/5], Step [400/600], Loss: 0.0008\n",
      "Epoch [5/5], Step [500/600], Loss: 0.0014\n",
      "Epoch [5/5], Step [600/600], Loss: 0.0156\n"
     ]
    },
    {
     "data": {
      "image/png": "[encoded data removed]",
      "text/plain": [
       "<Figure size 432x288 with 1 Axes>"
      ]
     },
     "metadata": {
      "needs_background": "light"
     },
     "output_type": "display_data"
    },
    {
     "name": "stdout",
     "output_type": "stream",
     "text": [
      "#### Test Accuracy of the network on 10000 test images: 98.34 % ####\n"
     ]
    }
   ],
   "source": [
    "for j in filter:\n",
    "    print(\"\\n\\n########### CNN with Filters = \", j, \" and Hidden layer dimension = 256 ###########\")\n",
    "    model = CNN(j, 3, 256).to(device)\n",
    "    optimizer = torch.optim.Adam(model.parameters(), lr=learning_rate)\n",
    "    train(model, optimizer, \"CNN\")\n",
    "    predict(model, type = \"CNN\")"
   ]
  },
  {
   "cell_type": "code",
   "execution_count": 23,
   "metadata": {
    "colab": {
     "base_uri": "https://localhost:8080/",
     "height": 1000
    },
    "id": "SeYz4EqH64oI",
    "outputId": "10294e8a-3931-40c5-dbd1-cc345d80db6b"
   },
   "outputs": [
    {
     "name": "stdout",
     "output_type": "stream",
     "text": [
      "\n",
      "\n",
      "########### CNN with Filters =  32  and Hidden layer dimension = 512 ###########\n",
      "Epoch [1/5], Step [100/600], Loss: 0.2476\n",
      "Epoch [1/5], Step [200/600], Loss: 0.3193\n",
      "Epoch [1/5], Step [300/600], Loss: 0.0867\n",
      "Epoch [1/5], Step [400/600], Loss: 0.2249\n",
      "Epoch [1/5], Step [500/600], Loss: 0.0991\n",
      "Epoch [1/5], Step [600/600], Loss: 0.0523\n",
      "Epoch [2/5], Step [100/600], Loss: 0.0659\n",
      "Epoch [2/5], Step [200/600], Loss: 0.0890\n",
      "Epoch [2/5], Step [300/600], Loss: 0.1004\n",
      "Epoch [2/5], Step [400/600], Loss: 0.0325\n",
      "Epoch [2/5], Step [500/600], Loss: 0.0492\n",
      "Epoch [2/5], Step [600/600], Loss: 0.0584\n",
      "Epoch [3/5], Step [100/600], Loss: 0.0286\n",
      "Epoch [3/5], Step [200/600], Loss: 0.0288\n",
      "Epoch [3/5], Step [300/600], Loss: 0.0470\n",
      "Epoch [3/5], Step [400/600], Loss: 0.0306\n",
      "Epoch [3/5], Step [500/600], Loss: 0.0423\n",
      "Epoch [3/5], Step [600/600], Loss: 0.0498\n",
      "Epoch [4/5], Step [100/600], Loss: 0.0136\n",
      "Epoch [4/5], Step [200/600], Loss: 0.0157\n",
      "Epoch [4/5], Step [300/600], Loss: 0.0025\n",
      "Epoch [4/5], Step [400/600], Loss: 0.0236\n",
      "Epoch [4/5], Step [500/600], Loss: 0.0107\n",
      "Epoch [4/5], Step [600/600], Loss: 0.0493\n",
      "Epoch [5/5], Step [100/600], Loss: 0.0195\n",
      "Epoch [5/5], Step [200/600], Loss: 0.0042\n",
      "Epoch [5/5], Step [300/600], Loss: 0.0431\n",
      "Epoch [5/5], Step [400/600], Loss: 0.0170\n",
      "Epoch [5/5], Step [500/600], Loss: 0.0461\n",
      "Epoch [5/5], Step [600/600], Loss: 0.0346\n"
     ]
    },
    {
     "data": {
      "image/png": "[encoded data removed]",
      "text/plain": [
       "<Figure size 432x288 with 1 Axes>"
      ]
     },
     "metadata": {
      "needs_background": "light"
     },
     "output_type": "display_data"
    },
    {
     "name": "stdout",
     "output_type": "stream",
     "text": [
      "#### Test Accuracy of the network on 10000 test images: 98.55 % ####\n",
      "\n",
      "\n",
      "########### CNN with Filters =  64  and Hidden layer dimension = 512 ###########\n",
      "Epoch [1/5], Step [100/600], Loss: 0.1452\n",
      "Epoch [1/5], Step [200/600], Loss: 0.1923\n",
      "Epoch [1/5], Step [300/600], Loss: 0.0498\n",
      "Epoch [1/5], Step [400/600], Loss: 0.1119\n",
      "Epoch [1/5], Step [500/600], Loss: 0.1767\n",
      "Epoch [1/5], Step [600/600], Loss: 0.0234\n",
      "Epoch [2/5], Step [100/600], Loss: 0.0279\n",
      "Epoch [2/5], Step [200/600], Loss: 0.0334\n",
      "Epoch [2/5], Step [300/600], Loss: 0.1628\n",
      "Epoch [2/5], Step [400/600], Loss: 0.0786\n",
      "Epoch [2/5], Step [500/600], Loss: 0.0128\n",
      "Epoch [2/5], Step [600/600], Loss: 0.0163\n",
      "Epoch [3/5], Step [100/600], Loss: 0.0161\n",
      "Epoch [3/5], Step [200/600], Loss: 0.0046\n",
      "Epoch [3/5], Step [300/600], Loss: 0.0072\n",
      "Epoch [3/5], Step [400/600], Loss: 0.0251\n",
      "Epoch [3/5], Step [500/600], Loss: 0.0338\n",
      "Epoch [3/5], Step [600/600], Loss: 0.0156\n",
      "Epoch [4/5], Step [100/600], Loss: 0.0038\n",
      "Epoch [4/5], Step [200/600], Loss: 0.0117\n",
      "Epoch [4/5], Step [300/600], Loss: 0.0096\n",
      "Epoch [4/5], Step [400/600], Loss: 0.0173\n",
      "Epoch [4/5], Step [500/600], Loss: 0.0091\n",
      "Epoch [4/5], Step [600/600], Loss: 0.0220\n",
      "Epoch [5/5], Step [100/600], Loss: 0.0049\n",
      "Epoch [5/5], Step [200/600], Loss: 0.0058\n",
      "Epoch [5/5], Step [300/600], Loss: 0.0015\n",
      "Epoch [5/5], Step [400/600], Loss: 0.0019\n",
      "Epoch [5/5], Step [500/600], Loss: 0.0013\n",
      "Epoch [5/5], Step [600/600], Loss: 0.0056\n"
     ]
    },
    {
     "data": {
      "image/png": "[encoded data removed]",
      "text/plain": [
       "<Figure size 432x288 with 1 Axes>"
      ]
     },
     "metadata": {
      "needs_background": "light"
     },
     "output_type": "display_data"
    },
    {
     "name": "stdout",
     "output_type": "stream",
     "text": [
      "#### Test Accuracy of the network on 10000 test images: 98.24 % ####\n",
      "\n",
      "\n",
      "########### CNN with Filters =  128  and Hidden layer dimension = 512 ###########\n",
      "Epoch [1/5], Step [100/600], Loss: 0.3267\n",
      "Epoch [1/5], Step [200/600], Loss: 0.1744\n",
      "Epoch [1/5], Step [300/600], Loss: 0.1354\n",
      "Epoch [1/5], Step [400/600], Loss: 0.0951\n",
      "Epoch [1/5], Step [500/600], Loss: 0.0744\n",
      "Epoch [1/5], Step [600/600], Loss: 0.1074\n",
      "Epoch [2/5], Step [100/600], Loss: 0.0554\n",
      "Epoch [2/5], Step [200/600], Loss: 0.0463\n",
      "Epoch [2/5], Step [300/600], Loss: 0.0485\n",
      "Epoch [2/5], Step [400/600], Loss: 0.0565\n",
      "Epoch [2/5], Step [500/600], Loss: 0.0318\n",
      "Epoch [2/5], Step [600/600], Loss: 0.0384\n",
      "Epoch [3/5], Step [100/600], Loss: 0.0136\n",
      "Epoch [3/5], Step [200/600], Loss: 0.0151\n",
      "Epoch [3/5], Step [300/600], Loss: 0.0754\n",
      "Epoch [3/5], Step [400/600], Loss: 0.0225\n",
      "Epoch [3/5], Step [500/600], Loss: 0.0959\n",
      "Epoch [3/5], Step [600/600], Loss: 0.0129\n",
      "Epoch [4/5], Step [100/600], Loss: 0.0185\n",
      "Epoch [4/5], Step [200/600], Loss: 0.0147\n",
      "Epoch [4/5], Step [300/600], Loss: 0.0053\n",
      "Epoch [4/5], Step [400/600], Loss: 0.0662\n",
      "Epoch [4/5], Step [500/600], Loss: 0.0077\n",
      "Epoch [4/5], Step [600/600], Loss: 0.0140\n",
      "Epoch [5/5], Step [100/600], Loss: 0.0502\n",
      "Epoch [5/5], Step [200/600], Loss: 0.0036\n",
      "Epoch [5/5], Step [300/600], Loss: 0.0074\n",
      "Epoch [5/5], Step [400/600], Loss: 0.0044\n",
      "Epoch [5/5], Step [500/600], Loss: 0.0205\n",
      "Epoch [5/5], Step [600/600], Loss: 0.0248\n"
     ]
    },
    {
     "data": {
      "image/png": "[encoded data removed]",
      "text/plain": [
       "<Figure size 432x288 with 1 Axes>"
      ]
     },
     "metadata": {
      "needs_background": "light"
     },
     "output_type": "display_data"
    },
    {
     "name": "stdout",
     "output_type": "stream",
     "text": [
      "#### Test Accuracy of the network on 10000 test images: 98.3 % ####\n",
      "\n",
      "\n",
      "########### CNN with Filters =  256  and Hidden layer dimension = 512 ###########\n",
      "Epoch [1/5], Step [100/600], Loss: 0.3187\n",
      "Epoch [1/5], Step [200/600], Loss: 0.1807\n",
      "Epoch [1/5], Step [300/600], Loss: 0.1779\n",
      "Epoch [1/5], Step [400/600], Loss: 0.1014\n",
      "Epoch [1/5], Step [500/600], Loss: 0.0459\n",
      "Epoch [1/5], Step [600/600], Loss: 0.1256\n",
      "Epoch [2/5], Step [100/600], Loss: 0.0289\n",
      "Epoch [2/5], Step [200/600], Loss: 0.0342\n",
      "Epoch [2/5], Step [300/600], Loss: 0.1428\n",
      "Epoch [2/5], Step [400/600], Loss: 0.0270\n",
      "Epoch [2/5], Step [500/600], Loss: 0.1256\n",
      "Epoch [2/5], Step [600/600], Loss: 0.0568\n",
      "Epoch [3/5], Step [100/600], Loss: 0.0237\n",
      "Epoch [3/5], Step [200/600], Loss: 0.0252\n",
      "Epoch [3/5], Step [300/600], Loss: 0.0295\n",
      "Epoch [3/5], Step [400/600], Loss: 0.0496\n",
      "Epoch [3/5], Step [500/600], Loss: 0.0573\n",
      "Epoch [3/5], Step [600/600], Loss: 0.0380\n",
      "Epoch [4/5], Step [100/600], Loss: 0.0347\n",
      "Epoch [4/5], Step [200/600], Loss: 0.0072\n",
      "Epoch [4/5], Step [300/600], Loss: 0.0597\n",
      "Epoch [4/5], Step [400/600], Loss: 0.0122\n",
      "Epoch [4/5], Step [500/600], Loss: 0.0417\n",
      "Epoch [4/5], Step [600/600], Loss: 0.0542\n",
      "Epoch [5/5], Step [100/600], Loss: 0.0043\n",
      "Epoch [5/5], Step [200/600], Loss: 0.0093\n",
      "Epoch [5/5], Step [300/600], Loss: 0.0206\n",
      "Epoch [5/5], Step [400/600], Loss: 0.0022\n",
      "Epoch [5/5], Step [500/600], Loss: 0.0433\n",
      "Epoch [5/5], Step [600/600], Loss: 0.0179\n"
     ]
    },
    {
     "data": {
      "image/png": "[encoded data removed]",
      "text/plain": [
       "<Figure size 432x288 with 1 Axes>"
      ]
     },
     "metadata": {
      "needs_background": "light"
     },
     "output_type": "display_data"
    },
    {
     "name": "stdout",
     "output_type": "stream",
     "text": [
      "#### Test Accuracy of the network on 10000 test images: 98.16 % ####\n"
     ]
    }
   ],
   "source": [
    "for j in filter:\n",
    "    print(\"\\n\\n########### CNN with Filters = \", j, \" and Hidden layer dimension = 512 ###########\")\n",
    "    model = CNN(j, 3, 512).to(device)\n",
    "    optimizer = torch.optim.Adam(model.parameters(), lr=learning_rate)\n",
    "    train(model, optimizer, \"CNN\")\n",
    "    predict(model, type = \"CNN\")"
   ]
  },
  {
   "cell_type": "markdown",
   "metadata": {
    "id": "qwmD9xrMGsic"
   },
   "source": [
    "### In general, from the plots above, it is noted that, the Test accuracy decreases (in most cases) with increase in filter sizes (from 32 to 256)\n",
    "\n",
    "### In this case, the hidden layer dimensions = 256 performed better in all choices of filter sizes than the models with hidden layer dimension = 128 and 512. And the model with 512 hidden layer dimension performed better than the model with 128 hidden layer dimension."
   ]
  }
 ],
 "metadata": {
  "accelerator": "GPU",
  "colab": {
   "collapsed_sections": [],
   "name": "Feed Forward Network using Pytorch with MNIST.ipynb",
   "provenance": []
  },
  "kernelspec": {
   "display_name": "Python 3 (ipykernel)",
   "language": "python",
   "name": "python3"
  },
  "language_info": {
   "codemirror_mode": {
    "name": "ipython",
    "version": 3
   },
   "file_extension": ".py",
   "mimetype": "text/x-python",
   "name": "python",
   "nbconvert_exporter": "python",
   "pygments_lexer": "ipython3",
   "version": "3.9.7"
  }
 },
 "nbformat": 4,
 "nbformat_minor": 4
}
