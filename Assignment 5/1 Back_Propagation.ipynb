{
 "cells": [
  {
   "cell_type": "markdown",
   "id": "ba8d1917-630c-4884-bab4-87fc7b77b816",
   "metadata": {},
   "source": [
    "# 1 Hidden Layer Neural Network on Fischer Faces dataset\n",
    "\n",
    "Performed PCA on to reduce the dimension from 10201 to K and then using Backpropagation algorithm to  \n",
    "train a 1 Hidden layer Neural Network for Emotion Classification using Fischer Faces dataset.\n",
    "\n",
    "Libraries used:\n",
    "1) Numpy - for numerical computations such as eig(), matmul(), dot operator\n",
    "2) Pillow - to read the .gif file\n",
    "3) Matplotlib - to plot the graph"
   ]
  },
  {
   "cell_type": "code",
   "execution_count": 1,
   "id": "2cb0c932-2cb1-4cd0-96fd-90d30affce60",
   "metadata": {},
   "outputs": [],
   "source": [
    "import numpy as np\n",
    "from PIL import Image\n",
    "import matplotlib.pyplot as plt\n",
    "import os"
   ]
  },
  {
   "cell_type": "markdown",
   "id": "7377c5e7-617a-42e1-a129-7a2280b52802",
   "metadata": {},
   "source": [
    "### Function get_data() \n",
    "\n",
    "#### Input\n",
    "Folder name - either train or test\n",
    "\n",
    "#### Output\n",
    "The image data of dimension 101 x 101 is returned as numpy array X of shape (Number of images in folder, Dimension of image)  \n",
    "Labels - Happy (1) or Sad (2) - of the corresponding images"
   ]
  },
  {
   "cell_type": "code",
   "execution_count": 2,
   "id": "95c0e487-1e51-4fd0-b312-2bd63aa33a8f",
   "metadata": {},
   "outputs": [],
   "source": [
    "def get_data(folder):\n",
    "    labels = [[], []]    \n",
    "\n",
    "    for dirname, _, filenames in os.walk(\"Data/emotion_classification/\"+ folder):\n",
    "        i = 0\n",
    "        for filename in filenames:   \n",
    "            if \"happy\" in filename:\n",
    "                labels[0].append(i)\n",
    "            else:\n",
    "                labels[1].append(i)\n",
    "            i+=1\n",
    "\n",
    "            gif = Image.open(os.path.join(dirname, filename))\n",
    "\n",
    "            data = np.asarray(gif)\n",
    "\n",
    "            x = data.reshape(1,101*101)\n",
    "\n",
    "            if i == 1:\n",
    "                X = x\n",
    "            else:\n",
    "                X = np.vstack((X, x))\n",
    "\n",
    "    print(\"Input Data Shape\", X.shape)\n",
    "    print(\"Input Data\", X)\n",
    "    \n",
    "    return X, labels"
   ]
  },
  {
   "cell_type": "code",
   "execution_count": 3,
   "id": "4b43f2c5-25af-4195-8b88-2bdb09f98883",
   "metadata": {},
   "outputs": [
    {
     "name": "stdout",
     "output_type": "stream",
     "text": [
      "Input Data Shape (20, 10201)\n",
      "Input Data [[133 142 146 ...  95  95  95]\n",
      " [115 115 117 ... 220 227 213]\n",
      " [ 71  87 105 ...  65  66  71]\n",
      " ...\n",
      " [ 65  76  83 ...  57  53  54]\n",
      " [ 13  17  22 ... 255 255 255]\n",
      " [ 23  20  17 ... 121 215 255]]\n"
     ]
    }
   ],
   "source": [
    "X, labels = get_data('train')"
   ]
  },
  {
   "cell_type": "markdown",
   "id": "2cd5b206-927c-4ed7-a6e8-8d2628a5ea46",
   "metadata": {
    "tags": []
   },
   "source": [
    "### Function calculate_mean()\n",
    "\n",
    "#### Input \n",
    "X - any numpy array\n",
    "\n",
    "#### Output\n",
    "Mean of the input data calculated along the column"
   ]
  },
  {
   "cell_type": "code",
   "execution_count": 4,
   "id": "bc2ae471-75cd-421e-9430-06abf9f00128",
   "metadata": {},
   "outputs": [],
   "source": [
    "def calculate_mean(X):\n",
    "    mean = np.sum(X, axis=0)\n",
    "    mean = mean / len(X)\n",
    "\n",
    "    print(\"Mean of input\", mean.shape, mean)\n",
    "    \n",
    "    return mean"
   ]
  },
  {
   "cell_type": "code",
   "execution_count": 5,
   "id": "d4b216fb-8ef1-43db-af67-aca27590541f",
   "metadata": {},
   "outputs": [],
   "source": [
    "K = 12\n",
    "\n",
    "from sklearn.decomposition import PCA\n",
    "\n",
    "pca = PCA(n_components = K)\n",
    "\n",
    "P = pca.fit_transform(X)"
   ]
  },
  {
   "cell_type": "markdown",
   "id": "1f71eb6e-d774-4422-8b2f-8c8674c2a5ee",
   "metadata": {},
   "source": [
    "### Function get_labels()\n",
    "\n",
    "Returns the label vector with each entry corresponding to the label of each image in data point"
   ]
  },
  {
   "cell_type": "code",
   "execution_count": 6,
   "id": "dff02a89-2437-47eb-8b75-0a6db672b5f0",
   "metadata": {},
   "outputs": [],
   "source": [
    "def get_labels(labels):\n",
    "    y = []\n",
    "    \n",
    "    N = sum([len(i) for i in labels])\n",
    "    for i in range(N):\n",
    "        if i in labels[0]:\n",
    "            y.append(1)\n",
    "        else:\n",
    "            y.append(2)\n",
    "\n",
    "    print(\"Labels\", y)\n",
    "    return y"
   ]
  },
  {
   "cell_type": "markdown",
   "id": "d958698b-195c-4279-ae48-cfdaa955f8c7",
   "metadata": {},
   "source": [
    "### Function one_hot_encoding(y):\n",
    "\n",
    "Converts the target labels to one hot encoding"
   ]
  },
  {
   "cell_type": "code",
   "execution_count": 7,
   "id": "91520955-6c2d-49b3-9b02-1ce71c33533b",
   "metadata": {},
   "outputs": [],
   "source": [
    "def one_hot_encoding(y):\n",
    "    t = np.zeros((len(y), 2, 1))\n",
    "    \n",
    "    for i in range(len(y)):\n",
    "        t[i,y[i]-1,0] = 1\n",
    "    return t"
   ]
  },
  {
   "cell_type": "code",
   "execution_count": 8,
   "id": "026432c6-200c-4db0-a06b-281f8c4c457a",
   "metadata": {},
   "outputs": [
    {
     "name": "stdout",
     "output_type": "stream",
     "text": [
      "Labels [1, 1, 2, 2, 1, 2, 2, 1, 2, 1, 2, 1, 2, 1, 2, 2, 1, 2, 1, 2]\n"
     ]
    }
   ],
   "source": [
    "y = get_labels(labels)\n",
    "t = one_hot_encoding(y)"
   ]
  },
  {
   "cell_type": "markdown",
   "id": "d87aa904-17c0-48fc-b7ef-57885921957a",
   "metadata": {},
   "source": [
    "##### Takes in the Test image data as input"
   ]
  },
  {
   "cell_type": "code",
   "execution_count": 9,
   "id": "ba2cdbe2-0c9a-45e1-adf3-77734f1971a5",
   "metadata": {},
   "outputs": [
    {
     "name": "stdout",
     "output_type": "stream",
     "text": [
      "Input Data Shape (10, 10201)\n",
      "Input Data [[158 167 174 ... 118 117 118]\n",
      " [ 52  64  75 ...  60 136 224]\n",
      " [110 111 111 ...  74  73  78]\n",
      " ...\n",
      " [ 10  16  22 ...  62  64  62]\n",
      " [ 58  91 111 ...  43  50  57]\n",
      " [123 123 123 ...  65  78  96]]\n"
     ]
    }
   ],
   "source": [
    "X_test, labels_test = get_data('test')"
   ]
  },
  {
   "cell_type": "markdown",
   "id": "3f4e7815-4d89-4cf9-8406-f80a4c51c22b",
   "metadata": {},
   "source": [
    "##### PCA projects the Test data to K-Dimensional vector"
   ]
  },
  {
   "cell_type": "code",
   "execution_count": 10,
   "id": "3742f939-217a-4405-82c6-5cdde93b0558",
   "metadata": {},
   "outputs": [],
   "source": [
    "P_test = pca.transform(X_test)"
   ]
  },
  {
   "cell_type": "code",
   "execution_count": 11,
   "id": "d30943a3-5231-42a3-9f90-cc2ee89e2f75",
   "metadata": {},
   "outputs": [
    {
     "name": "stdout",
     "output_type": "stream",
     "text": [
      "Labels [2, 1, 1, 1, 2, 1, 1, 2, 1, 2]\n"
     ]
    }
   ],
   "source": [
    "y_test = get_labels(labels_test)\n",
    "t_test = one_hot_encoding(y_test)"
   ]
  },
  {
   "cell_type": "markdown",
   "id": "3dd0a206-73dc-44cd-9f2e-3e2f6e0a0d8b",
   "metadata": {},
   "source": [
    "### Class Neural Network\n",
    "\n",
    "Implements the 1-Hidden layer Neural Network to classify the sad/happy classes.  \n",
    "\n",
    "It uses the cross entropy loss function and softmax output activation and ReLU hidden activation.  \n",
    "\n",
    "Parameters - $ { W_0, b_0, W_1, b_1 } $\n",
    "\n",
    "#### Function forward_pass(x):  \n",
    "\n",
    "Given a data point, performs the forward pass of the algorithm.  \n",
    "\n",
    "Computes:\n",
    "\n",
    "$ a_1 = W_0.x + b_0 $  \n",
    "$ z_1 = ReLU(a_1) $  \n",
    "$ a_2 = W_1.z_1 + b_1 $  \n",
    "$ y   = softmax(a_2) $  \n",
    "\n",
    "#### Function backward_pass(x):  \n",
    "\n",
    "Given a data point and its target, computes the forward pass of the backpropagation algorithm.  \n",
    "\n",
    "Computes:  \n",
    "\n",
    "$ \\delta_1 = y - t $  \n",
    "$ \\delta_0 = W_1.\\delta_1 \\odot softmax'(a_1) $   \n",
    "\n",
    "$ \\frac{\\partial E}{\\partial W_1} = z_1.\\delta_1^T $  \n",
    "$ \\frac{\\partial E}{\\partial b_1} = \\delta_1 $   \n",
    "\n",
    "$ \\frac{\\partial E}{\\partial W_1} = x.\\delta_0^T $  \n",
    "$ \\frac{\\partial E}{\\partial b_1} = \\delta_0 $  \n",
    "\n",
    "#### Function update_weights():  \n",
    "\n",
    "Computes:  \n",
    "\n",
    "$ W_1^{t+1} = W_1^t - \\eta.\\frac{\\partial E}{\\partial W_1} $  \n",
    "$ b_1^{t+1} = b_1^t - \\eta.\\frac{\\partial E}{\\partial b_1} $  \n",
    "\n",
    "$ W_0^{t+1} = W_0^t - \\eta.\\frac{\\partial E}{\\partial W_0} $  \n",
    "$ b_0^{t+1} = b_0^t - \\eta.\\frac{\\partial E}{\\partial b_0} $  \n",
    "\n",
    "#### Softmax(a)\n",
    "\n",
    "Computes: \n",
    "\n",
    "$ softmax(a) = \\frac{e^{a_i}}{\\sum_{j=1}^K e^{a_j}} $\n",
    "\n",
    "Derivative:\n",
    "\n",
    "$ softmax'(a) = softmax(a) * (1 - softmax(a)) $  \n",
    "\n",
    "#### ReLU(a)\n",
    "\n",
    "returns max(0, a)  \n",
    "\n",
    "Derivative:\n",
    "\n",
    "if a <= 0: 0\n",
    "else: 1\n",
    "\n",
    "#### Cross Entropy\n",
    "\n",
    "returns - (t.log(y) + (1 - t)(1 - log(y)))  \n",
    "\n",
    "#### Function predict(X, t)\n",
    "\n",
    "Predicts the output y for a given data point and calculates the overall accuracy"
   ]
  },
  {
   "cell_type": "code",
   "execution_count": 12,
   "id": "b3d5adb1-bcd6-48be-9dab-1903114baff1",
   "metadata": {},
   "outputs": [],
   "source": [
    "class Neural_Network:\n",
    "    \n",
    "    def __init__(self, layer_size, lr = 0.00001):\n",
    "        self.input_layer_size = layer_size[0]\n",
    "        self.hidden_layer_size = layer_size[1]\n",
    "        self.output_layer_size = layer_size[2]\n",
    "        \n",
    "        self.lr = lr\n",
    "        np.random.seed(2)\n",
    "        self.params = {\n",
    "            'w0': np.random.randn(self.hidden_layer_size, self.input_layer_size),\n",
    "            'b0': np.random.randn(self.hidden_layer_size, 1),\n",
    "            'w1': np.random.randn(self.output_layer_size, self.hidden_layer_size),\n",
    "            'b1': np.random.randn(self.output_layer_size, 1)\n",
    "        }\n",
    "    \n",
    "    \n",
    "    def forward_pass(self, x):\n",
    "        \n",
    "        # Performs the forward pass\n",
    "        \n",
    "        self.nn_state = {}\n",
    "        self.nn_state['x'] = x\n",
    "        self.nn_state['a1'] = np.dot(self.params['w0'], self.nn_state['x'].reshape((self.input_layer_size, 1))) + self.params['b0']\n",
    "        self.nn_state['z1'] = self.ReLu(self.nn_state['a1'])\n",
    "        self.nn_state['a2'] = np.dot(self.params['w1'], self.nn_state['z1']) + self.params['b1']\n",
    "        self.nn_state['y'] = self.softmax(self.nn_state['a2'])\n",
    "        \n",
    "    def backward_pass(self, x, t):\n",
    "        \n",
    "        # Performs the backward pass\n",
    "        \n",
    "        self.nn_state['d1'] = self.nn_state['y'] - t        \n",
    "        self.nn_state['d0'] = np.dot(self.nn_state['d1'].T, self.params['w1']).T * self.ReLu(self.nn_state['a1'], derivative = True)\n",
    "        \n",
    "        self.nn_state['D2w'] = np.dot(self.nn_state['z1'], self.nn_state['d1'].T)\n",
    "        self.nn_state['D2b'] = self.nn_state['d1']\n",
    "        \n",
    "        self.nn_state['D1w'] = np.dot(self.nn_state['d0'], self.nn_state['x'].reshape((1,self.input_layer_size)))\n",
    "        self.nn_state['D1b'] = self.nn_state['d0']\n",
    "        \n",
    "    def update_weights(self):\n",
    "        \n",
    "        # Updates weight\n",
    "        \n",
    "        self.params['w0'] -= self.lr * self.nn_state['D1w']\n",
    "        self.params['b0'] -= self.lr * self.nn_state['D1b']\n",
    "        self.params['w1'] -= self.lr * self.nn_state['D2w'].T\n",
    "        self.params['b1'] -= self.lr * self.nn_state['D2b']\n",
    "        \n",
    "        \n",
    "    def softmax(self, x, derivative = False):\n",
    "        \n",
    "        # For stability, shifted values down, so max = 0\n",
    "        \n",
    "        exp_shifted = np.exp(x - x.max())\n",
    "        if derivative:\n",
    "            return exp_shifted / np.sum(exp_shifted, axis = 0) * (1 - exp_shifted / np.sum(exp_shifted, axis = 0))\n",
    "        else:\n",
    "            return exp_shifted / np.sum(exp_shifted, axis = 0)\n",
    "\n",
    "    def ReLu(self, x, derivative = False):\n",
    "        if derivative:\n",
    "            return np.where(x <= 0, 0, 1)\n",
    "        else:\n",
    "            return np.maximum(0, x)\n",
    "        \n",
    "    def cross_entropy(self, t, y, derivative = False):\n",
    "        \n",
    "        y = np.where(y == 0, 0.00000001, y)\n",
    "        y = np.where(y == 1, 0.99999999, y)\n",
    "        if derivative:\n",
    "            return  (-(t/y)) + ((1 - t)/(1 - y)) \n",
    "        else:\n",
    "            c = np.dot(t.T, np.log(y)) + np.dot((1 - t).T, np.log(1 - y))\n",
    "            return -c\n",
    "        \n",
    "    def predict(self, X, t):\n",
    "        \n",
    "        # Predicts the output and calculates accuracy\n",
    "        \n",
    "        acc = 0\n",
    "        for i in range(len(t)):\n",
    "            self.forward_pass(X[i])\n",
    "            \n",
    "            if np.argmax(model.nn_state['y']) == np.argmax(t[i]):\n",
    "                acc += 1\n",
    "        return acc / len(t)"
   ]
  },
  {
   "cell_type": "markdown",
   "id": "dff73e52-cb6b-4912-92c5-a2d6a7a1e16d",
   "metadata": {},
   "source": [
    "## 1-Hidden Layer Neural Network with 10 hidden Neurons"
   ]
  },
  {
   "cell_type": "code",
   "execution_count": 13,
   "id": "a722fb2a-b186-4267-a01a-ef237953c6a8",
   "metadata": {},
   "outputs": [
    {
     "name": "stdout",
     "output_type": "stream",
     "text": [
      "################### Training ####################\n",
      "----- Epoch: 1  -----\n",
      "Cost: 26.9161 Accuracy: 0.45\n",
      "----- Epoch: 2  -----\n",
      "Cost: 48.8571 Accuracy: 0.5\n",
      "----- Epoch: 3  -----\n",
      "Cost: 61.6795 Accuracy: 0.5\n",
      "----- Epoch: 4  -----\n",
      "Cost: 53.7584 Accuracy: 0.55\n",
      "----- Epoch: 5  -----\n",
      "Cost: 61.7028 Accuracy: 0.55\n",
      "----- Epoch: 6  -----\n",
      "Cost: 10.1472 Accuracy: 0.75\n",
      "----- Epoch: 7  -----\n",
      "Cost: 9.2103 Accuracy: 0.75\n",
      "----- Epoch: 8  -----\n",
      "Cost: 17.7666 Accuracy: 0.75\n",
      "----- Epoch: 9  -----\n",
      "Cost: 27.1089 Accuracy: 0.65\n",
      "----- Epoch: 10  -----\n",
      "Cost: 36.6838 Accuracy: 0.75\n",
      "----- Epoch: 11  -----\n",
      "Cost: 3.6841 Accuracy: 0.9\n",
      "----- Epoch: 12  -----\n",
      "Cost: 53.8544 Accuracy: 0.7\n",
      "----- Epoch: 13  -----\n",
      "Cost: 66.2226 Accuracy: 0.85\n",
      "----- Epoch: 14  -----\n",
      "Cost: 1.8421 Accuracy: 0.95\n",
      "----- Epoch: 15  -----\n",
      "Cost: 22.2918 Accuracy: 0.95\n",
      "----- Epoch: 16  -----\n",
      "Cost: 5.8374 Accuracy: 0.95\n",
      "----- Epoch: 17  -----\n",
      "Cost: 0.0 Accuracy: 1.0\n",
      "----- Epoch: 18  -----\n",
      "Cost: 0.0 Accuracy: 1.0\n",
      "----- Epoch: 19  -----\n",
      "Cost: 0.0 Accuracy: 1.0\n",
      "----- Epoch: 20  -----\n",
      "Cost: 0.0 Accuracy: 1.0\n"
     ]
    },
    {
     "data": {
      "image/png": "[encoded data removed]",
      "text/plain": [
       "<Figure size 432x288 with 1 Axes>"
      ]
     },
     "metadata": {
      "needs_background": "light"
     },
     "output_type": "display_data"
    }
   ],
   "source": [
    "layer_sizes = [K, 10, 2]\n",
    "model = Neural_Network(layer_sizes)\n",
    "\n",
    "num_epochs = 20\n",
    "\n",
    "print('################### Training ####################')\n",
    "plot_cost = []\n",
    "for e in range(num_epochs):\n",
    "    print('----- Epoch:', e+1, ' -----')\n",
    "    \n",
    "    samples = P.shape[0]\n",
    "    cost = 0\n",
    "    acc = 0\n",
    "    for i in range(samples):\n",
    "        model.forward_pass(P[i])\n",
    "        model.backward_pass(P[i], t[i])\n",
    "        \n",
    "        # Add Partial Cost of a training datapoint\n",
    "        cost += model.cross_entropy(t[i], model.nn_state['y'])\n",
    "        \n",
    "        # Update Weights\n",
    "        model.update_weights()\n",
    "        \n",
    "        if np.argmax(model.nn_state['y']) == np.argmax(t[i]):\n",
    "            acc += 1\n",
    "\n",
    "    # Training Accuracy\n",
    "    cost = cost / samples\n",
    "    plot_cost.append(cost[0])\n",
    "    accuracy = acc / samples\n",
    "    print('Cost:', round(cost[0,0],4), 'Accuracy:', accuracy)\n",
    "    \n",
    "# Plotting the Error Curve\n",
    "plt.plot([i for i in range(num_epochs)], plot_cost, marker=\"o\", color='b') \n",
    "plt.xlabel('Epoch')\n",
    "plt.ylabel('Error')\n",
    "plt.title('Error curve for NN with 10 hidden neurons')\n",
    "plt.show()"
   ]
  },
  {
   "cell_type": "code",
   "execution_count": 14,
   "id": "5bc7bcb4-9932-4f13-905b-1184f33e9248",
   "metadata": {},
   "outputs": [
    {
     "name": "stdout",
     "output_type": "stream",
     "text": [
      "Test Accuracy:  70.0  %\n"
     ]
    }
   ],
   "source": [
    "print(\"Test Accuracy: \", model.predict(P_test, t_test)*100, \" %\")"
   ]
  },
  {
   "cell_type": "markdown",
   "id": "fbe566f8-5447-442a-b895-6d85b67a26a1",
   "metadata": {},
   "source": [
    "## 1-Hidden Layer Neural Network with 15 hidden Neurons"
   ]
  },
  {
   "cell_type": "code",
   "execution_count": 15,
   "id": "7dbe7daa-2f5c-45e3-9d02-b5c699194b0c",
   "metadata": {},
   "outputs": [
    {
     "name": "stdout",
     "output_type": "stream",
     "text": [
      "################### Training ####################\n",
      "----- Epoch: 1  -----\n",
      "Cost: 23.94688497087198 Accuracy: 0.35\n",
      "----- Epoch: 2  -----\n",
      "Cost: 40.64580029187142 Accuracy: 0.35\n",
      "----- Epoch: 3  -----\n",
      "Cost: 56.01204411031657 Accuracy: 0.45\n",
      "----- Epoch: 4  -----\n",
      "Cost: 14.736544603652112 Accuracy: 0.6\n",
      "----- Epoch: 5  -----\n",
      "Cost: 49.79125663742088 Accuracy: 0.45\n",
      "----- Epoch: 6  -----\n",
      "Cost: 43.152332099976256 Accuracy: 0.65\n",
      "----- Epoch: 7  -----\n",
      "Cost: 21.463261922446996 Accuracy: 0.85\n",
      "----- Epoch: 8  -----\n",
      "Cost: 7.815961832542122 Accuracy: 0.95\n",
      "----- Epoch: 9  -----\n",
      "Cost: 41.2395858463644 Accuracy: 0.8\n",
      "----- Epoch: 10  -----\n",
      "Cost: 24.207747302207537 Accuracy: 0.9\n",
      "----- Epoch: 11  -----\n",
      "Cost: 15.58088523651897 Accuracy: 0.9\n",
      "----- Epoch: 12  -----\n",
      "Cost: 57.58767488080722 Accuracy: 0.8\n",
      "----- Epoch: 13  -----\n",
      "Cost: 25.61824616058368 Accuracy: 0.9\n",
      "----- Epoch: 14  -----\n",
      "Cost: 0.4074539970440167 Accuracy: 0.95\n",
      "----- Epoch: 15  -----\n",
      "Cost: 1.0198703621666065e-06 Accuracy: 1.0\n",
      "----- Epoch: 16  -----\n",
      "Cost: 1.0100595979233218e-06 Accuracy: 1.0\n",
      "----- Epoch: 17  -----\n",
      "Cost: 1.000439477585859e-06 Accuracy: 1.0\n",
      "----- Epoch: 18  -----\n",
      "Cost: 9.910044889880602e-07 Accuracy: 1.0\n",
      "----- Epoch: 19  -----\n",
      "Cost: 9.817493306337467e-07 Accuracy: 1.0\n",
      "----- Epoch: 20  -----\n",
      "Cost: 9.726689018320974e-07 Accuracy: 1.0\n"
     ]
    },
    {
     "data": {
      "image/png": "[encoded data removed]",
      "text/plain": [
       "<Figure size 432x288 with 1 Axes>"
      ]
     },
     "metadata": {
      "needs_background": "light"
     },
     "output_type": "display_data"
    }
   ],
   "source": [
    "layer_sizes = [K, 15, 2]\n",
    "model = Neural_Network(layer_sizes)\n",
    "\n",
    "num_epochs = 20\n",
    "\n",
    "print('################### Training ####################')\n",
    "plot_cost = []\n",
    "for e in range(num_epochs):\n",
    "    print('----- Epoch:', e+1, ' -----')\n",
    "    \n",
    "    samples = P.shape[0]\n",
    "    cost = 0\n",
    "    acc = 0\n",
    "    for i in range(samples):\n",
    "        model.forward_pass(P[i])\n",
    "        model.backward_pass(P[i], t[i])\n",
    "        \n",
    "        # Add Partial Cost of a training datapoint\n",
    "        cost += model.cross_entropy(t[i], model.nn_state['y'])\n",
    "        \n",
    "        # Update Weights\n",
    "        model.update_weights()\n",
    "        \n",
    "        if np.argmax(model.nn_state['y']) == np.argmax(t[i]):\n",
    "            acc += 1\n",
    "\n",
    "    # Training Accuracy\n",
    "    cost = cost / samples\n",
    "    plot_cost.append(cost[0])\n",
    "    accuracy = acc / samples\n",
    "    print('Cost:', cost[0,0], 'Accuracy:', accuracy)\n",
    "    \n",
    "    \n",
    "# Plotting the Error Curve\n",
    "plt.plot([i for i in range(num_epochs)], plot_cost, marker=\"o\", color='b') \n",
    "plt.xlabel('Epoch')\n",
    "plt.ylabel('Error')\n",
    "plt.title('Error curve for NN with 15 hidden neurons')\n",
    "plt.show()"
   ]
  },
  {
   "cell_type": "code",
   "execution_count": 16,
   "id": "b80a74d3-dc57-415f-a3c9-da545bfa356b",
   "metadata": {},
   "outputs": [
    {
     "name": "stdout",
     "output_type": "stream",
     "text": [
      "Test Accuracy:  80.0  %\n"
     ]
    }
   ],
   "source": [
    "print(\"Test Accuracy: \", model.predict(P_test, t_test)*100, \" %\")"
   ]
  },
  {
   "cell_type": "markdown",
   "id": "3f87b675-0ec9-42ba-b3f1-cd1bbda9a0ac",
   "metadata": {},
   "source": [
    "## When the number of hidden neurons got increased from 10 to 15, the test accuracy got increased from 70% to 80%.\n",
    "\n",
    "## It follows the same trend and the test accuracy reaches 90% when there are 25 hidden neurons."
   ]
  },
  {
   "cell_type": "code",
   "execution_count": null,
   "id": "7d3ff319-29ea-42ea-af00-f0bb6663839e",
   "metadata": {},
   "outputs": [],
   "source": []
  }
 ],
 "metadata": {
  "kernelspec": {
   "display_name": "Python 3 (ipykernel)",
   "language": "python",
   "name": "python3"
  },
  "language_info": {
   "codemirror_mode": {
    "name": "ipython",
    "version": 3
   },
   "file_extension": ".py",
   "mimetype": "text/x-python",
   "name": "python",
   "nbconvert_exporter": "python",
   "pygments_lexer": "ipython3",
   "version": "3.9.7"
  }
 },
 "nbformat": 4,
 "nbformat_minor": 5
}
